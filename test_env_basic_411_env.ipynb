{
 "cells": [
  {
   "cell_type": "code",
   "execution_count": 1,
   "metadata": {},
   "outputs": [
    {
     "data": {
      "text/plain": [
       "'\\nworking\\n\\n\\n'"
      ]
     },
     "execution_count": 1,
     "metadata": {},
     "output_type": "execute_result"
    }
   ],
   "source": [
    "\n",
    "import pprint\n",
    "\n",
    "#from game.env.at_dice_adventure_python_env import ATDiceAdventurePythonEnv\n",
    "\n",
    "\n",
    "PLAYERS = [\"Dwarf\", \"Giant\", \"Human\"]\n",
    "SERVER = \"local\"\n",
    "ACTION_LIST = [\"up\", \"down\", \"left\", \"right\", \"wait\", \"undo\", \"submit\", \"pinga\", \"pingb\", \"pingc\", \"pingd\"]\n",
    "\n",
    "'''\n",
    "working\n",
    "\n",
    "\n",
    "'''"
   ]
  },
  {
   "cell_type": "markdown",
   "metadata": {},
   "source": [
    "### To Test\n",
    "* Test env\n",
    "* test action\n",
    "* test obs\n",
    "* see how to handle the other players\n",
    "* test done\n",
    "* test reward\n",
    "* test hook up with cleanrl"
   ]
  },
  {
   "cell_type": "markdown",
   "metadata": {},
   "source": [
    "### Testing Env Set Up\n",
    "* 1D simple env. only player and goals"
   ]
  },
  {
   "cell_type": "code",
   "execution_count": null,
   "metadata": {},
   "outputs": [],
   "source": [
    "#mine:\n",
    "# def __init__(self,\n",
    "#              player=\"Dwarf\",\n",
    "#              id_=0,\n",
    "#              train_mode=False,\n",
    "#              server=\"local\",\n",
    "#              state_version=\"full\",#state_version=\"character\",\n",
    "#              **kwargs):\n",
    "#actual\n",
    "# def __init__(self,\n",
    "#                 player=\"Dwarf\",\n",
    "#                 id_=0,\n",
    "#                 train_mode=False,\n",
    "#                 server=\"local\",\n",
    "#                 state_version=\"character\",\n",
    "#                 **kwargs):"
   ]
  },
  {
   "cell_type": "code",
   "execution_count": 2,
   "metadata": {},
   "outputs": [
    {
     "name": "stdout",
     "output_type": "stream",
     "text": [
      "Game Info:\n",
      "+----------------+----------------+\n",
      "| Level:         | 1              |\n",
      "+----------------+----------------+\n",
      "| Phase:         | Player_Pinning |\n",
      "+----------------+----------------+\n",
      "| Subgoal Count: | 0              |\n",
      "+----------------+----------------+\n",
      "Grid:\n",
      "+----+----+-------+\n",
      "| ## | ** | ##    |\n",
      "+----+----+-------+\n",
      "| 1G | 2G | 3G    |\n",
      "+----+----+-------+\n",
      "| 1S | 2S | 3S    |\n",
      "+----+----+-------+\n",
      "| M1 | M2 | M1(2) |\n",
      "+----+----+-------+\n",
      "\n"
     ]
    }
   ],
   "source": [
    "import importlib\n",
    "import game.env.at_dice_adventure_python_env\n",
    "importlib.reload(game.env.at_dice_adventure_python_env)\n",
    "\n",
    "env = game.env.at_dice_adventure_python_env.ATDiceAdventurePythonEnv()\n",
    "\n",
    "state, info = env.reset()\n",
    "env.render()"
   ]
  },
  {
   "cell_type": "code",
   "execution_count": 7,
   "metadata": {},
   "outputs": [
    {
     "name": "stdout",
     "output_type": "stream",
     "text": [
      "[ 0.   0.   0.  -0.5  0.   0.   0.5  0.5  0.5  0.   1.   0. ]\n",
      "[[ 0.   0.   0. ]\n",
      " [-0.5  0.   0. ]\n",
      " [ 0.5  0.5  0.5]\n",
      " [ 0.   1.   0. ]]\n"
     ]
    }
   ],
   "source": [
    "print(state)\n",
    "print(state.reshape(4,3))"
   ]
  },
  {
   "cell_type": "code",
   "execution_count": 12,
   "metadata": {},
   "outputs": [
    {
     "data": {
      "text/plain": [
       "{'command': 'get_state',\n",
       " 'status': 'OK',\n",
       " 'message': 'Full State',\n",
       " 'content': {'gameData': {'boardWidth': 3,\n",
       "   'boardHeight': 4,\n",
       "   'level': 1,\n",
       "   'currentPhase': 'Player_Pinning'},\n",
       "  'scene': [{'id': 'M1-1',\n",
       "    'objectCode': 'M1',\n",
       "    'entityType': 'monster',\n",
       "    'x': 0,\n",
       "    'y': 0,\n",
       "    'combatDice': 'D4+0',\n",
       "    'actionPoints': 2},\n",
       "   {'id': 'M2-1',\n",
       "    'objectCode': 'M2',\n",
       "    'entityType': 'monster',\n",
       "    'x': 1,\n",
       "    'y': 0,\n",
       "    'combatDice': 'D6+0',\n",
       "    'actionPoints': 2},\n",
       "   {'id': 'M1-2',\n",
       "    'objectCode': 'M1',\n",
       "    'entityType': 'monster',\n",
       "    'x': 2,\n",
       "    'y': 0,\n",
       "    'combatDice': 'D4+0',\n",
       "    'actionPoints': 2},\n",
       "   {'id': '1S-1',\n",
       "    'objectCode': '1S',\n",
       "    'entityType': 'Dwarf',\n",
       "    'x': 0,\n",
       "    'y': 1,\n",
       "    'characterId': 1,\n",
       "    'health': 3,\n",
       "    'dead': False,\n",
       "    'pinCursorX': 0,\n",
       "    'pinCursorY': 1,\n",
       "    'sightRange': 1,\n",
       "    'monsterDice': 'D8+0',\n",
       "    'trapDice': 'D6+0',\n",
       "    'stoneDice': 'D6+0',\n",
       "    'actionPoints': 6,\n",
       "    'actionPlan': []},\n",
       "   {'id': '2S-1',\n",
       "    'objectCode': '2S',\n",
       "    'entityType': 'Giant',\n",
       "    'x': 1,\n",
       "    'y': 1,\n",
       "    'characterId': 2,\n",
       "    'health': 3,\n",
       "    'dead': False},\n",
       "   {'id': '3S-1',\n",
       "    'objectCode': '3S',\n",
       "    'entityType': 'Human',\n",
       "    'x': 2,\n",
       "    'y': 1,\n",
       "    'characterId': 3,\n",
       "    'health': 3,\n",
       "    'dead': False},\n",
       "   {'id': '1G-1',\n",
       "    'objectCode': '1G',\n",
       "    'entityType': 'shrine',\n",
       "    'x': 0,\n",
       "    'y': 2,\n",
       "    'reached': False,\n",
       "    'character': 'Dwarf'},\n",
       "   {'id': '2G-1',\n",
       "    'objectCode': '2G',\n",
       "    'entityType': 'shrine',\n",
       "    'x': 1,\n",
       "    'y': 2,\n",
       "    'reached': False,\n",
       "    'character': 'Giant'},\n",
       "   {'id': '3G-1',\n",
       "    'objectCode': '3G',\n",
       "    'entityType': 'shrine',\n",
       "    'x': 2,\n",
       "    'y': 2,\n",
       "    'reached': False,\n",
       "    'character': 'Human'},\n",
       "   {'id': '##-1', 'objectCode': '##', 'entityType': 'wall', 'x': 0, 'y': 3},\n",
       "   {'id': '**-1',\n",
       "    'objectCode': '**',\n",
       "    'entityType': 'goal',\n",
       "    'x': 1,\n",
       "    'y': 3,\n",
       "    'subgoalCount': 0},\n",
       "   {'id': '##-2', 'objectCode': '##', 'entityType': 'wall', 'x': 2, 'y': 3}]}}"
      ]
     },
     "execution_count": 12,
     "metadata": {},
     "output_type": "execute_result"
    }
   ],
   "source": [
    "info"
   ]
  },
  {
   "cell_type": "code",
   "execution_count": null,
   "metadata": {},
   "outputs": [],
   "source": []
  },
  {
   "cell_type": "markdown",
   "metadata": {},
   "source": [
    "### Testing env step"
   ]
  },
  {
   "cell_type": "code",
   "execution_count": 15,
   "metadata": {},
   "outputs": [
    {
     "name": "stdout",
     "output_type": "stream",
     "text": [
      "Game Info:\n",
      "+----------------+----------------+\n",
      "| Level:         | 1              |\n",
      "+----------------+----------------+\n",
      "| Phase:         | Player_Pinning |\n",
      "+----------------+----------------+\n",
      "| Subgoal Count: | 0              |\n",
      "+----------------+----------------+\n",
      "Grid:\n",
      "+----+----+-------+\n",
      "| ## | ** | ##    |\n",
      "+----+----+-------+\n",
      "| 1G | 2G | 3G    |\n",
      "+----+----+-------+\n",
      "| 1S | 2S | 3S    |\n",
      "+----+----+-------+\n",
      "| M1 | M2 | M1(2) |\n",
      "+----+----+-------+\n",
      "\n"
     ]
    }
   ],
   "source": [
    "import importlib\n",
    "import game.env.at_dice_adventure_python_env\n",
    "importlib.reload(game.env.at_dice_adventure_python_env)\n",
    "\n",
    "env = game.env.at_dice_adventure_python_env.ATDiceAdventurePythonEnv()\n",
    "\n",
    "state, info = env.reset()\n",
    "env.render()"
   ]
  },
  {
   "cell_type": "code",
   "execution_count": 16,
   "metadata": {},
   "outputs": [
    {
     "name": "stdout",
     "output_type": "stream",
     "text": [
      "{'command': 'get_state',\n",
      " 'content': {'gameData': {'boardHeight': 4,\n",
      "                          'boardWidth': 3,\n",
      "                          'currentPhase': 'Player_Pinning',\n",
      "                          'level': 1},\n",
      "             'scene': [{'actionPoints': 2,\n",
      "                        'combatDice': 'D4+0',\n",
      "                        'entityType': 'monster',\n",
      "                        'id': 'M1-1',\n",
      "                        'objectCode': 'M1',\n",
      "                        'x': 0,\n",
      "                        'y': 0},\n",
      "                       {'actionPoints': 2,\n",
      "                        'combatDice': 'D6+0',\n",
      "                        'entityType': 'monster',\n",
      "                        'id': 'M2-1',\n",
      "                        'objectCode': 'M2',\n",
      "                        'x': 1,\n",
      "                        'y': 0},\n",
      "                       {'actionPoints': 2,\n",
      "                        'combatDice': 'D4+0',\n",
      "                        'entityType': 'monster',\n",
      "                        'id': 'M1-2',\n",
      "                        'objectCode': 'M1',\n",
      "                        'x': 2,\n",
      "                        'y': 0},\n",
      "                       {'actionPlan': [],\n",
      "                        'actionPoints': 6,\n",
      "                        'characterId': 1,\n",
      "                        'dead': False,\n",
      "                        'entityType': 'Dwarf',\n",
      "                        'health': 3,\n",
      "                        'id': '1S-1',\n",
      "                        'monsterDice': 'D8+0',\n",
      "                        'objectCode': '1S',\n",
      "                        'pinCursorX': 0,\n",
      "                        'pinCursorY': 1,\n",
      "                        'sightRange': 1,\n",
      "                        'stoneDice': 'D6+0',\n",
      "                        'trapDice': 'D6+0',\n",
      "                        'x': 0,\n",
      "                        'y': 1},\n",
      "                       {'characterId': 2,\n",
      "                        'dead': False,\n",
      "                        'entityType': 'Giant',\n",
      "                        'health': 3,\n",
      "                        'id': '2S-1',\n",
      "                        'objectCode': '2S',\n",
      "                        'x': 1,\n",
      "                        'y': 1},\n",
      "                       {'characterId': 3,\n",
      "                        'dead': False,\n",
      "                        'entityType': 'Human',\n",
      "                        'health': 3,\n",
      "                        'id': '3S-1',\n",
      "                        'objectCode': '3S',\n",
      "                        'x': 2,\n",
      "                        'y': 1},\n",
      "                       {'character': 'Dwarf',\n",
      "                        'entityType': 'shrine',\n",
      "                        'id': '1G-1',\n",
      "                        'objectCode': '1G',\n",
      "                        'reached': False,\n",
      "                        'x': 0,\n",
      "                        'y': 2},\n",
      "                       {'character': 'Giant',\n",
      "                        'entityType': 'shrine',\n",
      "                        'id': '2G-1',\n",
      "                        'objectCode': '2G',\n",
      "                        'reached': False,\n",
      "                        'x': 1,\n",
      "                        'y': 2},\n",
      "                       {'character': 'Human',\n",
      "                        'entityType': 'shrine',\n",
      "                        'id': '3G-1',\n",
      "                        'objectCode': '3G',\n",
      "                        'reached': False,\n",
      "                        'x': 2,\n",
      "                        'y': 2},\n",
      "                       {'entityType': 'wall',\n",
      "                        'id': '##-1',\n",
      "                        'objectCode': '##',\n",
      "                        'x': 0,\n",
      "                        'y': 3},\n",
      "                       {'entityType': 'goal',\n",
      "                        'id': '**-1',\n",
      "                        'objectCode': '**',\n",
      "                        'subgoalCount': 0,\n",
      "                        'x': 1,\n",
      "                        'y': 3},\n",
      "                       {'entityType': 'wall',\n",
      "                        'id': '##-2',\n",
      "                        'objectCode': '##',\n",
      "                        'x': 2,\n",
      "                        'y': 3}]},\n",
      " 'message': 'Full State',\n",
      " 'status': 'OK'}\n"
     ]
    }
   ],
   "source": [
    "pprint.pprint(info)"
   ]
  },
  {
   "cell_type": "code",
   "execution_count": 21,
   "metadata": {},
   "outputs": [
    {
     "name": "stdout",
     "output_type": "stream",
     "text": [
      "Player_Pinning\n",
      "True\n"
     ]
    }
   ],
   "source": [
    "print(info['content']['gameData']['currentPhase'])\n",
    "print(info['content']['gameData']['currentPhase'] == 'Player_Pinning') "
   ]
  },
  {
   "cell_type": "code",
   "execution_count": null,
   "metadata": {},
   "outputs": [],
   "source": []
  },
  {
   "cell_type": "code",
   "execution_count": 10,
   "metadata": {},
   "outputs": [
    {
     "name": "stdout",
     "output_type": "stream",
     "text": [
      "{'command': 'get_state',\n",
      " 'content': {'gameData': {'boardHeight': 4,\n",
      "                          'boardWidth': 3,\n",
      "                          'currentPhase': 'Player_Pinning',\n",
      "                          'level': 1},\n",
      "             'scene': [{'actionPoints': 2,\n",
      "                        'combatDice': 'D4+0',\n",
      "                        'entityType': 'monster',\n",
      "                        'id': 'M1-1',\n",
      "                        'objectCode': 'M1',\n",
      "                        'x': 0,\n",
      "                        'y': 0},\n",
      "                       {'actionPoints': 2,\n",
      "                        'combatDice': 'D6+0',\n",
      "                        'entityType': 'monster',\n",
      "                        'id': 'M2-1',\n",
      "                        'objectCode': 'M2',\n",
      "                        'x': 1,\n",
      "                        'y': 0},\n",
      "                       {'actionPoints': 2,\n",
      "                        'combatDice': 'D4+0',\n",
      "                        'entityType': 'monster',\n",
      "                        'id': 'M1-2',\n",
      "                        'objectCode': 'M1',\n",
      "                        'x': 2,\n",
      "                        'y': 0},\n",
      "                       {'actionPlan': [],\n",
      "                        'actionPoints': 6,\n",
      "                        'characterId': 1,\n",
      "                        'dead': False,\n",
      "                        'entityType': 'Dwarf',\n",
      "                        'health': 3,\n",
      "                        'id': '1S-1',\n",
      "                        'monsterDice': 'D8+0',\n",
      "                        'objectCode': '1S',\n",
      "                        'pinCursorX': 0,\n",
      "                        'pinCursorY': 1,\n",
      "                        'sightRange': 1,\n",
      "                        'stoneDice': 'D6+0',\n",
      "                        'trapDice': 'D6+0',\n",
      "                        'x': 0,\n",
      "                        'y': 1},\n",
      "                       {'characterId': 2,\n",
      "                        'dead': False,\n",
      "                        'entityType': 'Giant',\n",
      "                        'health': 3,\n",
      "                        'id': '2S-1',\n",
      "                        'objectCode': '2S',\n",
      "                        'x': 1,\n",
      "                        'y': 1},\n",
      "                       {'characterId': 3,\n",
      "                        'dead': False,\n",
      "                        'entityType': 'Human',\n",
      "                        'health': 3,\n",
      "                        'id': '3S-1',\n",
      "                        'objectCode': '3S',\n",
      "                        'x': 2,\n",
      "                        'y': 1},\n",
      "                       {'character': 'Dwarf',\n",
      "                        'entityType': 'shrine',\n",
      "                        'id': '1G-1',\n",
      "                        'objectCode': '1G',\n",
      "                        'reached': False,\n",
      "                        'x': 0,\n",
      "                        'y': 2},\n",
      "                       {'character': 'Giant',\n",
      "                        'entityType': 'shrine',\n",
      "                        'id': '2G-1',\n",
      "                        'objectCode': '2G',\n",
      "                        'reached': False,\n",
      "                        'x': 1,\n",
      "                        'y': 2},\n",
      "                       {'character': 'Human',\n",
      "                        'entityType': 'shrine',\n",
      "                        'id': '3G-1',\n",
      "                        'objectCode': '3G',\n",
      "                        'reached': False,\n",
      "                        'x': 2,\n",
      "                        'y': 2},\n",
      "                       {'entityType': 'wall',\n",
      "                        'id': '##-1',\n",
      "                        'objectCode': '##',\n",
      "                        'x': 0,\n",
      "                        'y': 3},\n",
      "                       {'entityType': 'goal',\n",
      "                        'id': '**-1',\n",
      "                        'objectCode': '**',\n",
      "                        'subgoalCount': 0,\n",
      "                        'x': 1,\n",
      "                        'y': 3},\n",
      "                       {'entityType': 'wall',\n",
      "                        'id': '##-2',\n",
      "                        'objectCode': '##',\n",
      "                        'x': 2,\n",
      "                        'y': 3}]},\n",
      " 'message': 'Full State',\n",
      " 'status': 'OK'}\n"
     ]
    }
   ],
   "source": [
    "# testing submit and seeing what happens if player only submit\n",
    "next_state = env.execute_action(env.player, 'submit')\n",
    "pprint.pprint(next_state)"
   ]
  },
  {
   "cell_type": "code",
   "execution_count": 13,
   "metadata": {},
   "outputs": [
    {
     "name": "stdout",
     "output_type": "stream",
     "text": [
      "{'command': 'get_state',\n",
      " 'content': {'gameData': {'boardHeight': 4,\n",
      "                          'boardWidth': 3,\n",
      "                          'currentPhase': 'Player_Planning',\n",
      "                          'level': 1},\n",
      "             'scene': [{'actionPoints': 2,\n",
      "                        'combatDice': 'D4+0',\n",
      "                        'entityType': 'monster',\n",
      "                        'id': 'M1-1',\n",
      "                        'objectCode': 'M1',\n",
      "                        'x': 0,\n",
      "                        'y': 0},\n",
      "                       {'actionPoints': 2,\n",
      "                        'combatDice': 'D6+0',\n",
      "                        'entityType': 'monster',\n",
      "                        'id': 'M2-1',\n",
      "                        'objectCode': 'M2',\n",
      "                        'x': 1,\n",
      "                        'y': 0},\n",
      "                       {'actionPoints': 2,\n",
      "                        'combatDice': 'D4+0',\n",
      "                        'entityType': 'monster',\n",
      "                        'id': 'M1-2',\n",
      "                        'objectCode': 'M1',\n",
      "                        'x': 2,\n",
      "                        'y': 0},\n",
      "                       {'actionPlan': [],\n",
      "                        'actionPoints': 6,\n",
      "                        'characterId': 1,\n",
      "                        'dead': False,\n",
      "                        'entityType': 'Dwarf',\n",
      "                        'health': 3,\n",
      "                        'id': '1S-1',\n",
      "                        'monsterDice': 'D8+0',\n",
      "                        'objectCode': '1S',\n",
      "                        'pinCursorX': None,\n",
      "                        'pinCursorY': None,\n",
      "                        'sightRange': 1,\n",
      "                        'stoneDice': 'D6+0',\n",
      "                        'trapDice': 'D6+0',\n",
      "                        'x': 0,\n",
      "                        'y': 1},\n",
      "                       {'characterId': 2,\n",
      "                        'dead': False,\n",
      "                        'entityType': 'Giant',\n",
      "                        'health': 3,\n",
      "                        'id': '2S-1',\n",
      "                        'objectCode': '2S',\n",
      "                        'x': 1,\n",
      "                        'y': 1},\n",
      "                       {'characterId': 3,\n",
      "                        'dead': False,\n",
      "                        'entityType': 'Human',\n",
      "                        'health': 3,\n",
      "                        'id': '3S-1',\n",
      "                        'objectCode': '3S',\n",
      "                        'x': 2,\n",
      "                        'y': 1},\n",
      "                       {'character': 'Dwarf',\n",
      "                        'entityType': 'shrine',\n",
      "                        'id': '1G-1',\n",
      "                        'objectCode': '1G',\n",
      "                        'reached': False,\n",
      "                        'x': 0,\n",
      "                        'y': 2},\n",
      "                       {'character': 'Giant',\n",
      "                        'entityType': 'shrine',\n",
      "                        'id': '2G-1',\n",
      "                        'objectCode': '2G',\n",
      "                        'reached': False,\n",
      "                        'x': 1,\n",
      "                        'y': 2},\n",
      "                       {'character': 'Human',\n",
      "                        'entityType': 'shrine',\n",
      "                        'id': '3G-1',\n",
      "                        'objectCode': '3G',\n",
      "                        'reached': False,\n",
      "                        'x': 2,\n",
      "                        'y': 2},\n",
      "                       {'entityType': 'wall',\n",
      "                        'id': '##-1',\n",
      "                        'objectCode': '##',\n",
      "                        'x': 0,\n",
      "                        'y': 3},\n",
      "                       {'entityType': 'goal',\n",
      "                        'id': '**-1',\n",
      "                        'objectCode': '**',\n",
      "                        'subgoalCount': 0,\n",
      "                        'x': 1,\n",
      "                        'y': 3},\n",
      "                       {'entityType': 'wall',\n",
      "                        'id': '##-2',\n",
      "                        'objectCode': '##',\n",
      "                        'x': 2,\n",
      "                        'y': 3}]},\n",
      " 'message': 'Full State',\n",
      " 'status': 'OK'}\n"
     ]
    }
   ],
   "source": [
    "# testing submit and seeing what happens if all players submit\n",
    "next_state = env.execute_action('Giant', 'submit')\n",
    "next_state = env.execute_action('Human', 'submit')\n",
    "next_state = env.execute_action(env.player, 'submit')\n",
    "pprint.pprint(next_state)"
   ]
  },
  {
   "cell_type": "code",
   "execution_count": 14,
   "metadata": {},
   "outputs": [
    {
     "data": {
      "text/plain": [
       "False"
      ]
     },
     "execution_count": 14,
     "metadata": {},
     "output_type": "execute_result"
    }
   ],
   "source": [
    "next_state == info\n"
   ]
  },
  {
   "cell_type": "code",
   "execution_count": 11,
   "metadata": {},
   "outputs": [
    {
     "data": {
      "text/plain": [
       "True"
      ]
     },
     "execution_count": 11,
     "metadata": {},
     "output_type": "execute_result"
    }
   ],
   "source": []
  },
  {
   "cell_type": "code",
   "execution_count": null,
   "metadata": {},
   "outputs": [],
   "source": [
    "#from examples.random_agent.dice_adventure_python_env import DiceAdventurePythonEnv"
   ]
  },
  {
   "cell_type": "markdown",
   "metadata": {},
   "source": [
    "### Testing skipping pin phase"
   ]
  },
  {
   "cell_type": "code",
   "execution_count": 22,
   "metadata": {},
   "outputs": [
    {
     "name": "stdout",
     "output_type": "stream",
     "text": [
      "Game Info:\n",
      "+----------------+-----------------+\n",
      "| Level:         | 1               |\n",
      "+----------------+-----------------+\n",
      "| Phase:         | Player_Planning |\n",
      "+----------------+-----------------+\n",
      "| Subgoal Count: | 0               |\n",
      "+----------------+-----------------+\n",
      "Grid:\n",
      "+----+----+-------+\n",
      "| ## | ** | ##    |\n",
      "+----+----+-------+\n",
      "| 1G | 2G | 3G    |\n",
      "+----+----+-------+\n",
      "| 1S | 2S | 3S    |\n",
      "+----+----+-------+\n",
      "| M1 | M2 | M1(2) |\n",
      "+----+----+-------+\n",
      "\n"
     ]
    }
   ],
   "source": [
    "import importlib\n",
    "import game.env.at_dice_adventure_python_env\n",
    "importlib.reload(game.env.at_dice_adventure_python_env)\n",
    "\n",
    "env = game.env.at_dice_adventure_python_env.ATDiceAdventurePythonEnv()\n",
    "\n",
    "state, info = env.reset()\n",
    "env.render()"
   ]
  },
  {
   "cell_type": "code",
   "execution_count": 24,
   "metadata": {},
   "outputs": [
    {
     "data": {
      "text/plain": [
       "{'command': 'get_state',\n",
       " 'status': 'OK',\n",
       " 'message': 'Full State',\n",
       " 'content': {'gameData': {'boardWidth': 3,\n",
       "   'boardHeight': 4,\n",
       "   'level': 1,\n",
       "   'currentPhase': 'Player_Planning'},\n",
       "  'scene': [{'id': 'M1-1',\n",
       "    'objectCode': 'M1',\n",
       "    'entityType': 'monster',\n",
       "    'x': 0,\n",
       "    'y': 0,\n",
       "    'combatDice': 'D4+0',\n",
       "    'actionPoints': 2},\n",
       "   {'id': 'M2-1',\n",
       "    'objectCode': 'M2',\n",
       "    'entityType': 'monster',\n",
       "    'x': 1,\n",
       "    'y': 0,\n",
       "    'combatDice': 'D6+0',\n",
       "    'actionPoints': 2},\n",
       "   {'id': 'M1-2',\n",
       "    'objectCode': 'M1',\n",
       "    'entityType': 'monster',\n",
       "    'x': 2,\n",
       "    'y': 0,\n",
       "    'combatDice': 'D4+0',\n",
       "    'actionPoints': 2},\n",
       "   {'id': '1S-1',\n",
       "    'objectCode': '1S',\n",
       "    'entityType': 'Dwarf',\n",
       "    'x': 0,\n",
       "    'y': 1,\n",
       "    'characterId': 1,\n",
       "    'health': 3,\n",
       "    'dead': False,\n",
       "    'pinCursorX': None,\n",
       "    'pinCursorY': None,\n",
       "    'sightRange': 1,\n",
       "    'monsterDice': 'D8+0',\n",
       "    'trapDice': 'D6+0',\n",
       "    'stoneDice': 'D6+0',\n",
       "    'actionPoints': 6,\n",
       "    'actionPlan': []},\n",
       "   {'id': '2S-1',\n",
       "    'objectCode': '2S',\n",
       "    'entityType': 'Giant',\n",
       "    'x': 1,\n",
       "    'y': 1,\n",
       "    'characterId': 2,\n",
       "    'health': 3,\n",
       "    'dead': False},\n",
       "   {'id': '3S-1',\n",
       "    'objectCode': '3S',\n",
       "    'entityType': 'Human',\n",
       "    'x': 2,\n",
       "    'y': 1,\n",
       "    'characterId': 3,\n",
       "    'health': 3,\n",
       "    'dead': False},\n",
       "   {'id': '1G-1',\n",
       "    'objectCode': '1G',\n",
       "    'entityType': 'shrine',\n",
       "    'x': 0,\n",
       "    'y': 2,\n",
       "    'reached': False,\n",
       "    'character': 'Dwarf'},\n",
       "   {'id': '2G-1',\n",
       "    'objectCode': '2G',\n",
       "    'entityType': 'shrine',\n",
       "    'x': 1,\n",
       "    'y': 2,\n",
       "    'reached': False,\n",
       "    'character': 'Giant'},\n",
       "   {'id': '3G-1',\n",
       "    'objectCode': '3G',\n",
       "    'entityType': 'shrine',\n",
       "    'x': 2,\n",
       "    'y': 2,\n",
       "    'reached': False,\n",
       "    'character': 'Human'},\n",
       "   {'id': '##-1', 'objectCode': '##', 'entityType': 'wall', 'x': 0, 'y': 3},\n",
       "   {'id': '**-1',\n",
       "    'objectCode': '**',\n",
       "    'entityType': 'goal',\n",
       "    'x': 1,\n",
       "    'y': 3,\n",
       "    'subgoalCount': 0},\n",
       "   {'id': '##-2', 'objectCode': '##', 'entityType': 'wall', 'x': 2, 'y': 3}]}}"
      ]
     },
     "execution_count": 24,
     "metadata": {},
     "output_type": "execute_result"
    }
   ],
   "source": [
    "info"
   ]
  },
  {
   "cell_type": "code",
   "execution_count": 25,
   "metadata": {},
   "outputs": [
    {
     "name": "stdout",
     "output_type": "stream",
     "text": [
      "Game Info:\n",
      "+----------------+-----------------+\n",
      "| Level:         | 1               |\n",
      "+----------------+-----------------+\n",
      "| Phase:         | Player_Planning |\n",
      "+----------------+-----------------+\n",
      "| Subgoal Count: | 0               |\n",
      "+----------------+-----------------+\n",
      "Grid:\n",
      "+----+----+-------+\n",
      "| ## | ** | ##    |\n",
      "+----+----+-------+\n",
      "| 1G | 2G | 3G    |\n",
      "+----+----+-------+\n",
      "| 1S | 2S | 3S    |\n",
      "+----+----+-------+\n",
      "| M1 | M2 | M1(2) |\n",
      "+----+----+-------+\n",
      "\n"
     ]
    }
   ],
   "source": [
    "state, info = env.reset()\n",
    "env.render()"
   ]
  },
  {
   "cell_type": "code",
   "execution_count": null,
   "metadata": {},
   "outputs": [],
   "source": []
  },
  {
   "cell_type": "code",
   "execution_count": null,
   "metadata": {},
   "outputs": [],
   "source": []
  },
  {
   "cell_type": "markdown",
   "metadata": {},
   "source": [
    "### Testing action space\n",
    "\n"
   ]
  },
  {
   "cell_type": "code",
   "execution_count": 26,
   "metadata": {},
   "outputs": [
    {
     "name": "stdout",
     "output_type": "stream",
     "text": [
      "Game Info:\n",
      "+----------------+-----------------+\n",
      "| Level:         | 1               |\n",
      "+----------------+-----------------+\n",
      "| Phase:         | Player_Planning |\n",
      "+----------------+-----------------+\n",
      "| Subgoal Count: | 0               |\n",
      "+----------------+-----------------+\n",
      "Grid:\n",
      "+----+----+-------+\n",
      "| ## | ** | ##    |\n",
      "+----+----+-------+\n",
      "| 1G | 2G | 3G    |\n",
      "+----+----+-------+\n",
      "| 1S | 2S | 3S    |\n",
      "+----+----+-------+\n",
      "| M1 | M2 | M1(2) |\n",
      "+----+----+-------+\n",
      "\n"
     ]
    }
   ],
   "source": []
  },
  {
   "cell_type": "code",
   "execution_count": null,
   "metadata": {},
   "outputs": [],
   "source": [
    "'''\n",
    "this is the action space\n",
    "self.action_space = spaces.Box(\n",
    "            low=-1., high=1., shape=(6,), dtype=np.float32\n",
    "        )\n",
    "\n",
    "so submit it in step\n",
    "    then converted int o an actinion list\n",
    "    then submitted\n",
    "    then can sometime skip player pinning\n",
    "\n",
    "action_list = self._convert_continuous_action_into_action_list(action)\n",
    "game_state = self._submit_action_plan(action_list)\n",
    "game_state = self._skip_player_pinning_phase(game_state)\n",
    "'''"
   ]
  },
  {
   "cell_type": "code",
   "execution_count": null,
   "metadata": {},
   "outputs": [],
   "source": [
    "'''\n",
    "to do: some unit tests here\n",
    "\n",
    "'''"
   ]
  },
  {
   "cell_type": "code",
   "execution_count": 37,
   "metadata": {},
   "outputs": [
    {
     "name": "stdout",
     "output_type": "stream",
     "text": [
      "Game Info:\n",
      "+----------------+-----------------+\n",
      "| Level:         | 1               |\n",
      "+----------------+-----------------+\n",
      "| Phase:         | Player_Planning |\n",
      "+----------------+-----------------+\n",
      "| Subgoal Count: | 0               |\n",
      "+----------------+-----------------+\n",
      "Grid:\n",
      "+----+----+-------+\n",
      "| ## | ** | ##    |\n",
      "+----+----+-------+\n",
      "| 1G | 2G | 3G    |\n",
      "+----+----+-------+\n",
      "| 1S | 2S | 3S    |\n",
      "+----+----+-------+\n",
      "| M1 | M2 | M1(2) |\n",
      "+----+----+-------+\n",
      "\n"
     ]
    }
   ],
   "source": [
    "import importlib\n",
    "import game.env.at_dice_adventure_python_env\n",
    "importlib.reload(game.env.at_dice_adventure_python_env)\n",
    "import numpy as np\n",
    "\n",
    "env = game.env.at_dice_adventure_python_env.ATDiceAdventurePythonEnv()\n",
    "\n",
    "state, info = env.reset()\n",
    "env.render()"
   ]
  },
  {
   "cell_type": "code",
   "execution_count": 38,
   "metadata": {},
   "outputs": [
    {
     "name": "stdout",
     "output_type": "stream",
     "text": [
      "['submit', 'submit', 'submit', 'submit', 'submit', 'submit']\n",
      "['up', 'right', 'submit', 'wait', 'left', 'down']\n",
      "['up', 'up', 'right', 'right', 'right', 'submit']\n",
      "['down', 'left', 'left', 'left', 'wait', 'wait']\n"
     ]
    }
   ],
   "source": [
    "import numpy as np\n",
    "action = np.zeros((6,))\n",
    "\n",
    "action_list = env._convert_continuous_action_into_action_list(action)\n",
    "print(action_list)\n",
    "\n",
    "# up_min_value = 2./3.\n",
    "# right_min_value = 1./3.\n",
    "# submit_min_value = 0\n",
    "# left_min_value = -1./3.\n",
    "# down_min_value = -2./3.\n",
    "\n",
    "action = np.array([.75, .5, .25, -.25, -.5, -.75])\n",
    "action_list = env._convert_continuous_action_into_action_list(action)\n",
    "print(action_list)\n",
    "\n",
    "action = np.array([.67, 2/3, .65, .34, 1/3, .32])\n",
    "action_list = env._convert_continuous_action_into_action_list(action)\n",
    "print(action_list)\n",
    "\n",
    "\n",
    "action = np.array([.67, 2/3, .65, .34, 1/3, .32]) * -1\n",
    "action_list = env._convert_continuous_action_into_action_list(action)\n",
    "print(action_list)"
   ]
  },
  {
   "cell_type": "code",
   "execution_count": 34,
   "metadata": {},
   "outputs": [
    {
     "data": {
      "text/plain": [
       "(6,)"
      ]
     },
     "execution_count": 34,
     "metadata": {},
     "output_type": "execute_result"
    }
   ],
   "source": []
  },
  {
   "cell_type": "markdown",
   "metadata": {},
   "source": [
    "##### testing submits for non player works"
   ]
  },
  {
   "cell_type": "code",
   "execution_count": 63,
   "metadata": {},
   "outputs": [
    {
     "name": "stdout",
     "output_type": "stream",
     "text": [
      "Game Info:\n",
      "+----------------+-----------------+\n",
      "| Level:         | 1               |\n",
      "+----------------+-----------------+\n",
      "| Phase:         | Player_Planning |\n",
      "+----------------+-----------------+\n",
      "| Subgoal Count: | 0               |\n",
      "+----------------+-----------------+\n",
      "Grid:\n",
      "+----+----+-------+\n",
      "| ## | ** | ##    |\n",
      "+----+----+-------+\n",
      "| 1G | 2G | 3G    |\n",
      "+----+----+-------+\n",
      "| 1S | 2S | 3S    |\n",
      "+----+----+-------+\n",
      "| M1 | M2 | M1(2) |\n",
      "+----+----+-------+\n",
      "\n"
     ]
    }
   ],
   "source": [
    "import importlib\n",
    "import game.env.at_dice_adventure_python_env\n",
    "importlib.reload(game.env.at_dice_adventure_python_env)\n",
    "import numpy as np\n",
    "\n",
    "env = game.env.at_dice_adventure_python_env.ATDiceAdventurePythonEnv()\n",
    "\n",
    "state, info = env.reset()\n",
    "env.render()"
   ]
  },
  {
   "cell_type": "code",
   "execution_count": 64,
   "metadata": {},
   "outputs": [],
   "source": [
    "# pprint.pprint(info)"
   ]
  },
  {
   "cell_type": "code",
   "execution_count": 65,
   "metadata": {},
   "outputs": [
    {
     "name": "stdout",
     "output_type": "stream",
     "text": [
      "in convert action list  ['up', 'down', 'up', 'down', 'up', 'down']\n",
      " submitting action up\n",
      "action_points 5\n",
      " submitting action down\n",
      "action_points 4\n",
      " submitting action up\n",
      "action_points 3\n",
      " submitting action down\n",
      "action_points 2\n",
      " submitting action up\n",
      "action_points 1\n",
      " submitting action down\n",
      "action_points 0\n",
      "action points spent, ending action_list\n"
     ]
    }
   ],
   "source": [
    "action = np.ones((6,))\n",
    "action[1] = -1.\n",
    "action[3] = -1.\n",
    "action[5] = -1.\n",
    "obs, reward, term, trunc, info = env.step(action)"
   ]
  },
  {
   "cell_type": "code",
   "execution_count": 66,
   "metadata": {},
   "outputs": [
    {
     "name": "stdout",
     "output_type": "stream",
     "text": [
      "Game Info:\n",
      "+----------------+----------------+\n",
      "| Level:         | 1              |\n",
      "+----------------+----------------+\n",
      "| Phase:         | Player_Pinning |\n",
      "+----------------+----------------+\n",
      "| Subgoal Count: | 1              |\n",
      "+----------------+----------------+\n",
      "Grid:\n",
      "+-------+----+----+\n",
      "| ##    | ** | ## |\n",
      "+-------+----+----+\n",
      "| 1G-1S | 2G | 3G |\n",
      "+-------+----+----+\n",
      "|       | 2S | 3S |\n",
      "+-------+----+----+\n",
      "|       |    |    |\n",
      "+-------+----+----+\n",
      "\n"
     ]
    }
   ],
   "source": [
    "env.render()"
   ]
  },
  {
   "cell_type": "code",
   "execution_count": 67,
   "metadata": {},
   "outputs": [
    {
     "name": "stdout",
     "output_type": "stream",
     "text": [
      "{'command': 'get_state',\n",
      " 'content': {'gameData': {'boardHeight': 4,\n",
      "                          'boardWidth': 3,\n",
      "                          'currentPhase': 'Player_Planning',\n",
      "                          'level': 1},\n",
      "             'scene': [{'actionPoints': 2,\n",
      "                        'combatDice': 'D4+0',\n",
      "                        'entityType': 'monster',\n",
      "                        'id': 'M1-1',\n",
      "                        'objectCode': 'M1',\n",
      "                        'x': 0,\n",
      "                        'y': 0},\n",
      "                       {'actionPoints': 2,\n",
      "                        'combatDice': 'D6+0',\n",
      "                        'entityType': 'monster',\n",
      "                        'id': 'M2-1',\n",
      "                        'objectCode': 'M2',\n",
      "                        'x': 1,\n",
      "                        'y': 0},\n",
      "                       {'actionPoints': 2,\n",
      "                        'combatDice': 'D4+0',\n",
      "                        'entityType': 'monster',\n",
      "                        'id': 'M1-2',\n",
      "                        'objectCode': 'M1',\n",
      "                        'x': 2,\n",
      "                        'y': 0},\n",
      "                       {'actionPlan': ['up',\n",
      "                                       'down',\n",
      "                                       'up',\n",
      "                                       'down',\n",
      "                                       'up',\n",
      "                                       'down'],\n",
      "                        'actionPoints': 0,\n",
      "                        'characterId': 1,\n",
      "                        'dead': False,\n",
      "                        'entityType': 'Dwarf',\n",
      "                        'health': 3,\n",
      "                        'id': '1S-1',\n",
      "                        'monsterDice': 'D8+0',\n",
      "                        'objectCode': '1S',\n",
      "                        'pinCursorX': None,\n",
      "                        'pinCursorY': None,\n",
      "                        'sightRange': 1,\n",
      "                        'stoneDice': 'D6+0',\n",
      "                        'trapDice': 'D6+0',\n",
      "                        'x': 0,\n",
      "                        'y': 1},\n",
      "                       {'characterId': 2,\n",
      "                        'dead': False,\n",
      "                        'entityType': 'Giant',\n",
      "                        'health': 3,\n",
      "                        'id': '2S-1',\n",
      "                        'objectCode': '2S',\n",
      "                        'x': 1,\n",
      "                        'y': 1},\n",
      "                       {'characterId': 3,\n",
      "                        'dead': False,\n",
      "                        'entityType': 'Human',\n",
      "                        'health': 3,\n",
      "                        'id': '3S-1',\n",
      "                        'objectCode': '3S',\n",
      "                        'x': 2,\n",
      "                        'y': 1},\n",
      "                       {'character': 'Dwarf',\n",
      "                        'entityType': 'shrine',\n",
      "                        'id': '1G-1',\n",
      "                        'objectCode': '1G',\n",
      "                        'reached': False,\n",
      "                        'x': 0,\n",
      "                        'y': 2},\n",
      "                       {'character': 'Giant',\n",
      "                        'entityType': 'shrine',\n",
      "                        'id': '2G-1',\n",
      "                        'objectCode': '2G',\n",
      "                        'reached': False,\n",
      "                        'x': 1,\n",
      "                        'y': 2},\n",
      "                       {'character': 'Human',\n",
      "                        'entityType': 'shrine',\n",
      "                        'id': '3G-1',\n",
      "                        'objectCode': '3G',\n",
      "                        'reached': False,\n",
      "                        'x': 2,\n",
      "                        'y': 2},\n",
      "                       {'entityType': 'wall',\n",
      "                        'id': '##-1',\n",
      "                        'objectCode': '##',\n",
      "                        'x': 0,\n",
      "                        'y': 3},\n",
      "                       {'entityType': 'goal',\n",
      "                        'id': '**-1',\n",
      "                        'objectCode': '**',\n",
      "                        'subgoalCount': 0,\n",
      "                        'x': 1,\n",
      "                        'y': 3},\n",
      "                       {'entityType': 'wall',\n",
      "                        'id': '##-2',\n",
      "                        'objectCode': '##',\n",
      "                        'x': 2,\n",
      "                        'y': 3}]},\n",
      " 'message': 'Full State',\n",
      " 'status': 'OK'}\n"
     ]
    }
   ],
   "source": [
    "pprint.pprint(info)"
   ]
  },
  {
   "cell_type": "code",
   "execution_count": null,
   "metadata": {},
   "outputs": [],
   "source": []
  }
 ],
 "metadata": {
  "kernelspec": {
   "display_name": "daa",
   "language": "python",
   "name": "python3"
  },
  "language_info": {
   "codemirror_mode": {
    "name": "ipython",
    "version": 3
   },
   "file_extension": ".py",
   "mimetype": "text/x-python",
   "name": "python",
   "nbconvert_exporter": "python",
   "pygments_lexer": "ipython3",
   "version": "3.9.9"
  }
 },
 "nbformat": 4,
 "nbformat_minor": 2
}
