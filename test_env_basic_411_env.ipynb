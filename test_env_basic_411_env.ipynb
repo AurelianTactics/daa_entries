{
 "cells": [
  {
   "cell_type": "code",
   "execution_count": 1,
   "metadata": {},
   "outputs": [
    {
     "data": {
      "text/plain": [
       "'\\nworking\\n\\n\\n'"
      ]
     },
     "execution_count": 1,
     "metadata": {},
     "output_type": "execute_result"
    }
   ],
   "source": [
    "\n",
    "import pprint\n",
    "\n",
    "#from game.env.at_dice_adventure_python_env import ATDiceAdventurePythonEnv\n",
    "\n",
    "\n",
    "PLAYERS = [\"Dwarf\", \"Giant\", \"Human\"]\n",
    "SERVER = \"local\"\n",
    "ACTION_LIST = [\"up\", \"down\", \"left\", \"right\", \"wait\", \"undo\", \"submit\", \"pinga\", \"pingb\", \"pingc\", \"pingd\"]\n",
    "\n",
    "'''\n",
    "working\n",
    "\n",
    "\n",
    "'''"
   ]
  },
  {
   "cell_type": "markdown",
   "metadata": {},
   "source": [
    "### To Test\n",
    "* Test env\n",
    "* test action\n",
    "* test obs\n",
    "* see how to handle the other players\n",
    "* test done\n",
    "* test reward\n",
    "* test hook up with cleanrl"
   ]
  },
  {
   "cell_type": "markdown",
   "metadata": {},
   "source": [
    "### Testing Env Set Up"
   ]
  },
  {
   "cell_type": "code",
   "execution_count": null,
   "metadata": {},
   "outputs": [],
   "source": [
    "#mine:\n",
    "# def __init__(self,\n",
    "#              player=\"Dwarf\",\n",
    "#              id_=0,\n",
    "#              train_mode=False,\n",
    "#              server=\"local\",\n",
    "#              state_version=\"full\",#state_version=\"character\",\n",
    "#              **kwargs):\n",
    "#actual\n",
    "# def __init__(self,\n",
    "#                 player=\"Dwarf\",\n",
    "#                 id_=0,\n",
    "#                 train_mode=False,\n",
    "#                 server=\"local\",\n",
    "#                 state_version=\"character\",\n",
    "#                 **kwargs):"
   ]
  },
  {
   "cell_type": "code",
   "execution_count": 73,
   "metadata": {},
   "outputs": [
    {
     "name": "stdout",
     "output_type": "stream",
     "text": [
      "Game Info:\n",
      "+----------------+----------------+\n",
      "| Level:         | 1              |\n",
      "+----------------+----------------+\n",
      "| Phase:         | Player_Pinning |\n",
      "+----------------+----------------+\n",
      "| Subgoal Count: | 0              |\n",
      "+----------------+----------------+\n",
      "Grid:\n",
      "+----+----+-------+\n",
      "| ## | ** | ##    |\n",
      "+----+----+-------+\n",
      "| 1G | 2G | 3G    |\n",
      "+----+----+-------+\n",
      "| 1S | 2S | 3S    |\n",
      "+----+----+-------+\n",
      "| M1 | M2 | M1(2) |\n",
      "+----+----+-------+\n",
      "\n"
     ]
    }
   ],
   "source": [
    "import importlib\n",
    "import game.env.at_dice_adventure_python_env\n",
    "importlib.reload(game.env.at_dice_adventure_python_env)\n",
    "\n",
    "env = game.env.at_dice_adventure_python_env.ATDiceAdventurePythonEnv()\n",
    "\n",
    "state, info = env.reset()\n",
    "env.render()"
   ]
  },
  {
   "cell_type": "code",
   "execution_count": 74,
   "metadata": {},
   "outputs": [
    {
     "name": "stdout",
     "output_type": "stream",
     "text": [
      "[[[0. 1. 0. 0.]\n",
      "  [0. 0. 0. 0.]\n",
      "  [0. 0. 0. 0.]]\n",
      "\n",
      " [[0. 0. 1. 0.]\n",
      "  [0. 0. 1. 0.]\n",
      "  [0. 0. 1. 0.]]\n",
      "\n",
      " [[0. 0. 0. 0.]\n",
      "  [0. 0. 0. 1.]\n",
      "  [0. 0. 0. 0.]]]\n"
     ]
    }
   ],
   "source": [
    "print(state[:][:][:])"
   ]
  },
  {
   "cell_type": "code",
   "execution_count": 72,
   "metadata": {},
   "outputs": [
    {
     "name": "stdout",
     "output_type": "stream",
     "text": [
      "[[0. 0. 0.]\n",
      " [0. 0. 0.]\n",
      " [0. 0. 0.]\n",
      " [0. 0. 0.]]\n",
      "[[0. 0. 0.]\n",
      " [0. 0. 0.]\n",
      " [0. 0. 0.]\n",
      " [0. 0. 1.]]\n",
      "[[0. 0. 0.]\n",
      " [0. 0. 0.]\n",
      " [0. 0. 0.]\n",
      " [0. 0. 0.]]\n"
     ]
    }
   ],
   "source": [
    "print(state[:][:][0])\n",
    "print(state[:][:][1])\n",
    "print(state[:][:][2])"
   ]
  },
  {
   "cell_type": "code",
   "execution_count": 52,
   "metadata": {},
   "outputs": [
    {
     "name": "stdout",
     "output_type": "stream",
     "text": [
      "[[0. 0. 0.]\n",
      " [0. 0. 0.]\n",
      " [0. 0. 0.]\n",
      " [0. 0. 0.]]\n",
      "[[0. 0. 0.]\n",
      " [0. 0. 0.]\n",
      " [0. 0. 0.]\n",
      " [0. 0. 1.]]\n",
      "[[0. 0. 0.]\n",
      " [0. 0. 0.]\n",
      " [0. 0. 0.]\n",
      " [0. 0. 0.]]\n"
     ]
    }
   ],
   "source": [
    "print(state[:][:][0])\n",
    "print(state[:][:][1])\n",
    "print(state[:][:][2])"
   ]
  },
  {
   "cell_type": "code",
   "execution_count": 63,
   "metadata": {},
   "outputs": [
    {
     "name": "stdout",
     "output_type": "stream",
     "text": [
      "[[[0. 0. 0.]\n",
      "  [0. 0. 0.]\n",
      "  [0. 0. 0.]\n",
      "  [0. 0. 0.]]\n",
      "\n",
      " [[0. 0. 0.]\n",
      "  [0. 0. 0.]\n",
      "  [0. 0. 0.]\n",
      "  [0. 0. 1.]]\n",
      "\n",
      " [[5. 5. 5.]\n",
      "  [5. 5. 5.]\n",
      "  [5. 5. 5.]\n",
      "  [5. 5. 5.]]]\n"
     ]
    }
   ],
   "source": [
    "state[:][:][2] = 5\n",
    "print(state)"
   ]
  },
  {
   "cell_type": "code",
   "execution_count": 68,
   "metadata": {},
   "outputs": [
    {
     "name": "stdout",
     "output_type": "stream",
     "text": [
      "[[5. 5. 5.]\n",
      " [5. 5. 5.]\n",
      " [5. 5. 5.]\n",
      " [5. 5. 5.]]\n"
     ]
    }
   ],
   "source": [
    "print(state[:][:][2])"
   ]
  },
  {
   "cell_type": "code",
   "execution_count": 69,
   "metadata": {},
   "outputs": [
    {
     "data": {
      "text/plain": [
       "36"
      ]
     },
     "execution_count": 69,
     "metadata": {},
     "output_type": "execute_result"
    }
   ],
   "source": [
    "3*4*3"
   ]
  },
  {
   "cell_type": "code",
   "execution_count": null,
   "metadata": {},
   "outputs": [],
   "source": []
  },
  {
   "cell_type": "code",
   "execution_count": 66,
   "metadata": {},
   "outputs": [
    {
     "name": "stdout",
     "output_type": "stream",
     "text": [
      "[[5. 5. 5.]\n",
      " [5. 5. 5.]\n",
      " [5. 5. 5.]\n",
      " [5. 5. 5.]]\n"
     ]
    }
   ],
   "source": [
    "print(state[:][:][2])"
   ]
  },
  {
   "cell_type": "code",
   "execution_count": null,
   "metadata": {},
   "outputs": [],
   "source": []
  },
  {
   "cell_type": "code",
   "execution_count": 51,
   "metadata": {},
   "outputs": [
    {
     "data": {
      "text/plain": [
       "array([[0., 0., 0.],\n",
       "       [0., 0., 0.],\n",
       "       [0., 0., 0.],\n",
       "       [0., 0., 0.]], dtype=float32)"
      ]
     },
     "execution_count": 51,
     "metadata": {},
     "output_type": "execute_result"
    }
   ],
   "source": [
    "state[:][:][0]"
   ]
  },
  {
   "cell_type": "code",
   "execution_count": 44,
   "metadata": {},
   "outputs": [
    {
     "data": {
      "text/plain": [
       "array([[0., 0., 5.],\n",
       "       [0., 0., 0.],\n",
       "       [0., 0., 0.],\n",
       "       [0., 0., 0.]], dtype=float32)"
      ]
     },
     "execution_count": 44,
     "metadata": {},
     "output_type": "execute_result"
    }
   ],
   "source": [
    "state[:][:][0]\n"
   ]
  },
  {
   "cell_type": "code",
   "execution_count": 45,
   "metadata": {},
   "outputs": [
    {
     "data": {
      "text/plain": [
       "array([[[0., 0., 5.],\n",
       "        [0., 0., 0.],\n",
       "        [0., 0., 0.],\n",
       "        [0., 0., 0.]],\n",
       "\n",
       "       [[0., 0., 0.],\n",
       "        [0., 0., 0.],\n",
       "        [0., 0., 0.],\n",
       "        [0., 0., 1.]],\n",
       "\n",
       "       [[0., 0., 0.],\n",
       "        [0., 0., 0.],\n",
       "        [0., 0., 0.],\n",
       "        [0., 0., 0.]]], dtype=float32)"
      ]
     },
     "execution_count": 45,
     "metadata": {},
     "output_type": "execute_result"
    }
   ],
   "source": [
    "state"
   ]
  },
  {
   "cell_type": "code",
   "execution_count": 12,
   "metadata": {},
   "outputs": [
    {
     "data": {
      "text/plain": [
       "{'command': 'get_state',\n",
       " 'status': 'OK',\n",
       " 'message': 'Full State',\n",
       " 'content': {'gameData': {'boardWidth': 3,\n",
       "   'boardHeight': 4,\n",
       "   'level': 1,\n",
       "   'currentPhase': 'Player_Pinning'},\n",
       "  'scene': [{'id': 'M1-1',\n",
       "    'objectCode': 'M1',\n",
       "    'entityType': 'monster',\n",
       "    'x': 0,\n",
       "    'y': 0,\n",
       "    'combatDice': 'D4+0',\n",
       "    'actionPoints': 2},\n",
       "   {'id': 'M2-1',\n",
       "    'objectCode': 'M2',\n",
       "    'entityType': 'monster',\n",
       "    'x': 1,\n",
       "    'y': 0,\n",
       "    'combatDice': 'D6+0',\n",
       "    'actionPoints': 2},\n",
       "   {'id': 'M1-2',\n",
       "    'objectCode': 'M1',\n",
       "    'entityType': 'monster',\n",
       "    'x': 2,\n",
       "    'y': 0,\n",
       "    'combatDice': 'D4+0',\n",
       "    'actionPoints': 2},\n",
       "   {'id': '1S-1',\n",
       "    'objectCode': '1S',\n",
       "    'entityType': 'Dwarf',\n",
       "    'x': 0,\n",
       "    'y': 1,\n",
       "    'characterId': 1,\n",
       "    'health': 3,\n",
       "    'dead': False,\n",
       "    'pinCursorX': 0,\n",
       "    'pinCursorY': 1,\n",
       "    'sightRange': 1,\n",
       "    'monsterDice': 'D8+0',\n",
       "    'trapDice': 'D6+0',\n",
       "    'stoneDice': 'D6+0',\n",
       "    'actionPoints': 6,\n",
       "    'actionPlan': []},\n",
       "   {'id': '2S-1',\n",
       "    'objectCode': '2S',\n",
       "    'entityType': 'Giant',\n",
       "    'x': 1,\n",
       "    'y': 1,\n",
       "    'characterId': 2,\n",
       "    'health': 3,\n",
       "    'dead': False},\n",
       "   {'id': '3S-1',\n",
       "    'objectCode': '3S',\n",
       "    'entityType': 'Human',\n",
       "    'x': 2,\n",
       "    'y': 1,\n",
       "    'characterId': 3,\n",
       "    'health': 3,\n",
       "    'dead': False},\n",
       "   {'id': '1G-1',\n",
       "    'objectCode': '1G',\n",
       "    'entityType': 'shrine',\n",
       "    'x': 0,\n",
       "    'y': 2,\n",
       "    'reached': False,\n",
       "    'character': 'Dwarf'},\n",
       "   {'id': '2G-1',\n",
       "    'objectCode': '2G',\n",
       "    'entityType': 'shrine',\n",
       "    'x': 1,\n",
       "    'y': 2,\n",
       "    'reached': False,\n",
       "    'character': 'Giant'},\n",
       "   {'id': '3G-1',\n",
       "    'objectCode': '3G',\n",
       "    'entityType': 'shrine',\n",
       "    'x': 2,\n",
       "    'y': 2,\n",
       "    'reached': False,\n",
       "    'character': 'Human'},\n",
       "   {'id': '##-1', 'objectCode': '##', 'entityType': 'wall', 'x': 0, 'y': 3},\n",
       "   {'id': '**-1',\n",
       "    'objectCode': '**',\n",
       "    'entityType': 'goal',\n",
       "    'x': 1,\n",
       "    'y': 3,\n",
       "    'subgoalCount': 0},\n",
       "   {'id': '##-2', 'objectCode': '##', 'entityType': 'wall', 'x': 2, 'y': 3}]}}"
      ]
     },
     "execution_count": 12,
     "metadata": {},
     "output_type": "execute_result"
    }
   ],
   "source": [
    "info"
   ]
  },
  {
   "cell_type": "code",
   "execution_count": null,
   "metadata": {},
   "outputs": [],
   "source": [
    "#from examples.random_agent.dice_adventure_python_env import DiceAdventurePythonEnv"
   ]
  }
 ],
 "metadata": {
  "kernelspec": {
   "display_name": "daa",
   "language": "python",
   "name": "python3"
  },
  "language_info": {
   "codemirror_mode": {
    "name": "ipython",
    "version": 3
   },
   "file_extension": ".py",
   "mimetype": "text/x-python",
   "name": "python",
   "nbconvert_exporter": "python",
   "pygments_lexer": "ipython3",
   "version": "3.9.9"
  }
 },
 "nbformat": 4,
 "nbformat_minor": 2
}
