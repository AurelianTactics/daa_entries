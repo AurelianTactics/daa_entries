{
 "cells": [
  {
   "cell_type": "code",
   "execution_count": 3,
   "metadata": {},
   "outputs": [],
   "source": [
    "\n",
    "import pprint\n",
    "\n",
    "'''\n",
    "working\n",
    "\n",
    "figure out how the env can be used to step through to actually finish\n",
    "\n",
    "maybe just make my own?\n",
    "'''"
   ]
  },
  {
   "cell_type": "markdown",
   "metadata": {},
   "source": [
    "### Testing how the gynmaisum env works"
   ]
  },
  {
   "cell_type": "code",
   "execution_count": 1,
   "metadata": {},
   "outputs": [],
   "source": [
    "from examples.random_agent.dice_adventure_python_env import DiceAdventurePythonEnv\n",
    "from examples.random_agent.agent import DiceAdventureAgent\n",
    "\n",
    "PLAYERS = [\"Dwarf\", \"Giant\", \"Human\"]\n",
    "SERVER = \"local\"\n",
    "ACTION_LIST = [\"up\", \"down\", \"left\", \"right\", \"wait\", \"undo\", \"submit\", \"pinga\", \"pingb\", \"pingc\", \"pingd\"]"
   ]
  },
  {
   "cell_type": "markdown",
   "metadata": {},
   "source": [
    "### Basics"
   ]
  },
  {
   "cell_type": "code",
   "execution_count": 4,
   "metadata": {},
   "outputs": [
    {
     "name": "stdout",
     "output_type": "stream",
     "text": [
      "{'command': 'get_state',\n",
      " 'content': {'gameData': {'boardHeight': 4,\n",
      "                          'boardWidth': 3,\n",
      "                          'currentPhase': 'Player_Pinning',\n",
      "                          'level': 1,\n",
      "                          'num_repeats': 0},\n",
      "             'scene': [{'actionPoints': 2,\n",
      "                        'combatDice': 'D4+0',\n",
      "                        'name': 'M1',\n",
      "                        'type': 'S_Monster',\n",
      "                        'x': 0,\n",
      "                        'y': 0},\n",
      "                       {'actionPoints': 2,\n",
      "                        'combatDice': 'D6+0',\n",
      "                        'name': 'M2',\n",
      "                        'type': 'M_Monster',\n",
      "                        'x': 1,\n",
      "                        'y': 0},\n",
      "                       {'actionPoints': 2,\n",
      "                        'combatDice': 'D4+0',\n",
      "                        'name': 'M1(2)',\n",
      "                        'type': 'S_Monster',\n",
      "                        'x': 2,\n",
      "                        'y': 0},\n",
      "                       {'actionPlan': [],\n",
      "                        'actionPoints': 6,\n",
      "                        'action_plan_finalized': False,\n",
      "                        'characterId': 1,\n",
      "                        'dead': False,\n",
      "                        'health': 3,\n",
      "                        'monsterDice': 'D8+0',\n",
      "                        'name': 'Dwarf',\n",
      "                        'pinCursorX': 0,\n",
      "                        'pinCursorY': 1,\n",
      "                        'sightRange': 1,\n",
      "                        'stoneDice': 'D6+0',\n",
      "                        'trapDice': 'D6+0',\n",
      "                        'type': 'Dwarf',\n",
      "                        'x': 0,\n",
      "                        'y': 1},\n",
      "                       {'actionPlan': [],\n",
      "                        'actionPoints': 2,\n",
      "                        'action_plan_finalized': False,\n",
      "                        'characterId': 2,\n",
      "                        'dead': False,\n",
      "                        'health': 3,\n",
      "                        'monsterDice': 'D6+0',\n",
      "                        'name': 'Giant',\n",
      "                        'pinCursorX': 1,\n",
      "                        'pinCursorY': 1,\n",
      "                        'sightRange': 3,\n",
      "                        'stoneDice': 'D4+0',\n",
      "                        'trapDice': 'D8+0',\n",
      "                        'type': 'Giant',\n",
      "                        'x': 1,\n",
      "                        'y': 1},\n",
      "                       {'actionPlan': [],\n",
      "                        'actionPoints': 4,\n",
      "                        'action_plan_finalized': False,\n",
      "                        'characterId': 3,\n",
      "                        'dead': False,\n",
      "                        'health': 3,\n",
      "                        'monsterDice': 'D6+0',\n",
      "                        'name': 'Human',\n",
      "                        'pinCursorX': 2,\n",
      "                        'pinCursorY': 1,\n",
      "                        'sightRange': 2,\n",
      "                        'stoneDice': 'D8+0',\n",
      "                        'trapDice': 'D4+0',\n",
      "                        'type': 'Human',\n",
      "                        'x': 2,\n",
      "                        'y': 1},\n",
      "                       {'character': 'Dwarf',\n",
      "                        'name': 'Shrine',\n",
      "                        'reached': False,\n",
      "                        'type': 'shrine',\n",
      "                        'x': 0,\n",
      "                        'y': 2},\n",
      "                       {'character': 'Giant',\n",
      "                        'name': 'Shrine',\n",
      "                        'reached': False,\n",
      "                        'type': 'shrine',\n",
      "                        'x': 1,\n",
      "                        'y': 2},\n",
      "                       {'character': 'Human',\n",
      "                        'name': 'Shrine',\n",
      "                        'reached': False,\n",
      "                        'type': 'shrine',\n",
      "                        'x': 2,\n",
      "                        'y': 2},\n",
      "                       {'name': 'Wall', 'type': 'wall', 'x': 0, 'y': 3},\n",
      "                       {'name': 'Tower',\n",
      "                        'subgoalCount': 0,\n",
      "                        'type': 'goal',\n",
      "                        'x': 1,\n",
      "                        'y': 3},\n",
      "                       {'name': 'Wall', 'type': 'wall', 'x': 2, 'y': 3}]},\n",
      " 'message': 'Full State',\n",
      " 'status': 'OK'}\n"
     ]
    }
   ],
   "source": [
    "\n",
    "# Load agent\n",
    "agent = DiceAdventureAgent()\n",
    "# Set up environment\n",
    "env = DiceAdventurePythonEnv(server=SERVER)\n",
    "state = env.reset()[0]\n",
    "\n",
    "pprint.pprint(state)\n",
    "# while True:\n",
    "#     for p in PLAYERS:\n",
    "#         action = agent.take_action(state=state, actions=ACTION_LIST)\n",
    "#         state = env.execute_action(player=p, game_action=action)\n",
    "#     # env.render()\n",
    "#     import pdb; pdb.set_trace()\n"
   ]
  },
  {
   "cell_type": "markdown",
   "metadata": {},
   "source": [
    "### Env until a done \n"
   ]
  },
  {
   "cell_type": "code",
   "execution_count": 10,
   "metadata": {},
   "outputs": [],
   "source": [
    "# seeing how things run until a done\n",
    "\n",
    "# Load agent\n",
    "agent = DiceAdventureAgent()\n",
    "# Set up environment\n",
    "env = DiceAdventurePythonEnv(server=SERVER, player='Human')\n",
    "state = env.reset()[0]\n",
    "\n",
    "ACTION_LIST = [\"up\", \"down\", \"left\", \"right\", \"wait\", \"undo\", \"submit\", \"pinga\", \"pingb\", \"pingc\", \"pingd\"]\n",
    "action = \"wait\"\n",
    "new_obs, reward, terminated, truncated, info = env.step(action)\n",
    "#pprint.pprint(state)\n",
    "# while True:\n",
    "#     for p in PLAYERS:\n",
    "#         action = agent.take_action(state=state, actions=ACTION_LIST)\n",
    "#         state = env.execute_action(player=p, game_action=action)\n",
    "#     env.render()\n",
    "#     #import pdb; pdb.set_trace()"
   ]
  },
  {
   "cell_type": "code",
   "execution_count": 15,
   "metadata": {},
   "outputs": [
    {
     "name": "stdout",
     "output_type": "stream",
     "text": [
      "0 False False {}\n"
     ]
    }
   ],
   "source": [
    "print(reward, terminated, truncated, info, )"
   ]
  },
  {
   "cell_type": "code",
   "execution_count": 19,
   "metadata": {},
   "outputs": [
    {
     "data": {
      "text/plain": [
       "'OK'"
      ]
     },
     "execution_count": 19,
     "metadata": {},
     "output_type": "execute_result"
    }
   ],
   "source": [
    "new_obs['status']"
   ]
  },
  {
   "cell_type": "markdown",
   "metadata": {},
   "source": [
    "### Notes\n",
    "* new_obs['status'] 'OK' if not done, 'done' if done"
   ]
  },
  {
   "cell_type": "code",
   "execution_count": null,
   "metadata": {},
   "outputs": [],
   "source": []
  },
  {
   "cell_type": "markdown",
   "metadata": {},
   "source": [
    "### SEeing if it ever finishes and if so what happens when it is"
   ]
  },
  {
   "cell_type": "code",
   "execution_count": 24,
   "metadata": {},
   "outputs": [
    {
     "name": "stdout",
     "output_type": "stream",
     "text": [
      "1000 Status is  OK\n",
      "2000 Status is  OK\n",
      "3000 Status is  OK\n",
      "4000 Status is  OK\n",
      "5000 Status is  OK\n",
      "6000 Status is  OK\n",
      "7000 Status is  OK\n",
      "8000 Status is  OK\n",
      "9000 Status is  OK\n",
      "10000 Status is  OK\n"
     ]
    }
   ],
   "source": [
    "# Load agent\n",
    "agent = DiceAdventureAgent()\n",
    "# Set up environment\n",
    "env = DiceAdventurePythonEnv(server=SERVER, player='Human')\n",
    "state = env.reset()[0]\n",
    "\n",
    "ACTION_LIST = [\"up\", \"down\", \"left\", \"right\", \"wait\", \"undo\", \"submit\", \"pinga\", \"pingb\", \"pingc\", \"pingd\"]\n",
    "action = \"wait\"\n",
    "\n",
    "num_timesteps = 0\n",
    "while True:\n",
    "    action = agent.take_action(state=state, actions=ACTION_LIST)\n",
    "    new_obs, reward, terminated, truncated, info = env.step(action)\n",
    "    num_timesteps += 1\n",
    "\n",
    "    if num_timesteps % 1000 == 0:\n",
    "        print(f'{num_timesteps} Status is ', new_obs['status'])\n",
    "\n",
    "    if num_timesteps >= 10000 or terminated:\n",
    "        break"
   ]
  },
  {
   "cell_type": "code",
   "execution_count": null,
   "metadata": {},
   "outputs": [],
   "source": []
  },
  {
   "cell_type": "markdown",
   "metadata": {},
   "source": [
    "### how the ping action works\n",
    "pin action is first select pin type (when you do it resets to your location)\n",
    "\tthen select the directions to where you want to put it\n",
    "\tthen finalize it\n",
    "\tneed a ping selected and submitted to show up in the map\n",
    "\tonly after all 3 submits are done does state move (I think, test next)"
   ]
  },
  {
   "cell_type": "code",
   "execution_count": 88,
   "metadata": {},
   "outputs": [],
   "source": [
    "# dir(env.game.board.objects[\"2S\"])"
   ]
  },
  {
   "cell_type": "code",
   "execution_count": 71,
   "metadata": {},
   "outputs": [],
   "source": [
    "def get_pin_finalized(env, player_dict={\"Dwarf\": \"1S\", \"Giant\": \"2S\", \"Human\": \"3S\"}, tag=\"\"):\n",
    "    print(f\"--- {tag} ---\")\n",
    "    for player, key, in player_dict.items():\n",
    "        print(f\"{player} | pin (x,y) {env.game.board.objects[key].pin_x, env.game.board.objects[key].pin_y} | is pin_finalized {env.game.board.objects[key].pin_finalized} \"\\\n",
    "              f\"| placed_pin {env.game.board.objects[key].placed_pin} | action_points {env.game.board.objects[key].action_points}\")\n",
    "    print(\"___\")\n",
    "\n",
    "def get_player_state_info(state, player_list):\n",
    "    for scene_object in state['content']['scene']:\n",
    "        if 'name' in scene_object and scene_object['name'] in player_list:\n",
    "            pprint.pprint(scene_object)"
   ]
  },
  {
   "cell_type": "code",
   "execution_count": 86,
   "metadata": {},
   "outputs": [
    {
     "name": "stdout",
     "output_type": "stream",
     "text": [
      "--- pre_action ---\n",
      "Dwarf | pin (x,y) (0, 1) | is pin_finalized False | placed_pin False | action_points 6\n",
      "Giant | pin (x,y) (1, 1) | is pin_finalized False | placed_pin False | action_points 2\n",
      "Human | pin (x,y) (2, 1) | is pin_finalized False | placed_pin False | action_points 4\n",
      "___\n",
      "{'actionPlan': [],\n",
      " 'actionPoints': 2,\n",
      " 'action_plan_finalized': False,\n",
      " 'characterId': 2,\n",
      " 'dead': False,\n",
      " 'health': 3,\n",
      " 'monsterDice': 'D6+0',\n",
      " 'name': 'Giant',\n",
      " 'pinCursorX': 1,\n",
      " 'pinCursorY': 1,\n",
      " 'sightRange': 3,\n",
      " 'stoneDice': 'D4+0',\n",
      " 'trapDice': 'D8+0',\n",
      " 'type': 'Giant',\n",
      " 'x': 1,\n",
      " 'y': 1}\n",
      "--- post_action ---\n",
      "Dwarf | pin (x,y) (0, 1) | is pin_finalized False | placed_pin False | action_points 6\n",
      "Giant | pin (x,y) (1, 1) | is pin_finalized True | placed_pin False | action_points 2\n",
      "Human | pin (x,y) (2, 1) | is pin_finalized False | placed_pin False | action_points 4\n",
      "___\n",
      "{'actionPlan': [],\n",
      " 'actionPoints': 2,\n",
      " 'action_plan_finalized': False,\n",
      " 'characterId': 2,\n",
      " 'dead': False,\n",
      " 'health': 3,\n",
      " 'monsterDice': 'D6+0',\n",
      " 'name': 'Giant',\n",
      " 'pinCursorX': 1,\n",
      " 'pinCursorY': 1,\n",
      " 'sightRange': 3,\n",
      " 'stoneDice': 'D4+0',\n",
      " 'trapDice': 'D8+0',\n",
      " 'type': 'Giant',\n",
      " 'x': 1,\n",
      " 'y': 1}\n"
     ]
    }
   ],
   "source": [
    "# seeing how things run until a done\n",
    "\n",
    "# Load agent\n",
    "agent = DiceAdventureAgent()\n",
    "# Set up environment\n",
    "env = DiceAdventurePythonEnv(server=SERVER)\n",
    "state = env.reset()[0]\n",
    "PLAYERS = [\"Dwarf\", \"Giant\", \"Human\"]\n",
    "\n",
    "ACTION_LIST = [\"up\", \"down\", \"left\", \"right\", \"wait\", \"undo\", \"submit\", \"pinga\", \"pingb\", \"pingc\", \"pingd\"]\n",
    "\n",
    "get_pin_finalized(env, tag=\"pre_action\")\n",
    "get_player_state_info(state, ['Giant'])\n",
    "\n",
    "#new_state = env.execute_action('Giant', game_action=\"pinga\")\n",
    "# new_state = env.execute_action('Giant', game_action=\"left\")\n",
    "# #new_state = env.execute_action('Giant', game_action=\"undo\")\n",
    "new_state = env.execute_action('Giant', game_action=\"submit\")\n",
    "\n",
    "\n",
    "get_pin_finalized(env, tag=\"post_action\")\n",
    "get_player_state_info(new_state, ['Giant'])\n",
    "#new_obs, reward, terminated, truncated, info = env.step(action)\n",
    "#pprint.pprint(state)\n",
    "# while True:\n",
    "#     for p in PLAYERS:\n",
    "#         action = agent.take_action(state=state, actions=ACTION_LIST)\n",
    "#         state = env.execute_action(player=p, game_action=action)\n",
    "#     env.render()\n",
    "#     #import pdb; pdb.set_trace()"
   ]
  },
  {
   "cell_type": "code",
   "execution_count": 89,
   "metadata": {},
   "outputs": [],
   "source": [
    "# new_state['content']['scene']\n",
    "\n",
    "\n"
   ]
  },
  {
   "cell_type": "code",
   "execution_count": null,
   "metadata": {},
   "outputs": [],
   "source": []
  },
  {
   "cell_type": "markdown",
   "metadata": {},
   "source": [
    "### Confirm how to get to next part of the state\n",
    "* submit from all three"
   ]
  },
  {
   "cell_type": "code",
   "execution_count": 95,
   "metadata": {},
   "outputs": [
    {
     "name": "stdout",
     "output_type": "stream",
     "text": [
      "{'boardHeight': 4,\n",
      " 'boardWidth': 3,\n",
      " 'currentPhase': 'Player_Pinning',\n",
      " 'level': 1,\n",
      " 'num_repeats': 0}\n",
      "{'boardHeight': 4,\n",
      " 'boardWidth': 3,\n",
      " 'currentPhase': 'Player_Planning',\n",
      " 'level': 1,\n",
      " 'num_repeats': 0}\n",
      "{'boardHeight': 4,\n",
      " 'boardWidth': 3,\n",
      " 'currentPhase': 'Player_Pinning',\n",
      " 'level': 1,\n",
      " 'num_repeats': 0}\n"
     ]
    }
   ],
   "source": [
    "# seeing how things run until a done\n",
    "\n",
    "# Load agent\n",
    "agent = DiceAdventureAgent()\n",
    "# Set up environment\n",
    "env = DiceAdventurePythonEnv(server=SERVER)\n",
    "state = env.reset()[0]\n",
    "PLAYERS = [\"Dwarf\", \"Giant\", \"Human\"]\n",
    "\n",
    "ACTION_LIST = [\"up\", \"down\", \"left\", \"right\", \"wait\", \"undo\", \"submit\", \"pinga\", \"pingb\", \"pingc\", \"pingd\"]\n",
    "\n",
    "# get_pin_finalized(env, tag=\"pre_action\")\n",
    "# get_player_state_info(state, ['Giant'])\n",
    "\n",
    "#new_state = env.execute_action('Giant', game_action=\"pinga\")\n",
    "# new_state = env.execute_action('Giant', game_action=\"left\")\n",
    "# #new_state = env.execute_action('Giant', game_action=\"undo\")\n",
    "new_state = env.execute_action('Giant', game_action=\"submit\")\n",
    "new_state = env.execute_action('Human', game_action=\"submit\")\n",
    "new_state = env.execute_action('Dwarf', game_action=\"submit\")\n",
    "\n",
    "pprint.pprint(state['content']['gameData'])\n",
    "pprint.pprint(new_state['content']['gameData'])\n",
    "\n",
    "new_state = env.execute_action('Giant', game_action=\"submit\")\n",
    "new_state = env.execute_action('Human', game_action=\"submit\")\n",
    "new_state = env.execute_action('Dwarf', game_action=\"submit\")\n",
    "pprint.pprint(new_state['content']['gameData'])\n",
    "# get_pin_finalized(env, tag=\"post_action\")"
   ]
  },
  {
   "cell_type": "code",
   "execution_count": null,
   "metadata": {},
   "outputs": [],
   "source": []
  }
 ],
 "metadata": {
  "kernelspec": {
   "display_name": "daa",
   "language": "python",
   "name": "python3"
  },
  "language_info": {
   "codemirror_mode": {
    "name": "ipython",
    "version": 3
   },
   "file_extension": ".py",
   "mimetype": "text/x-python",
   "name": "python",
   "nbconvert_exporter": "python",
   "pygments_lexer": "ipython3",
   "version": "3.9.9"
  }
 },
 "nbformat": 4,
 "nbformat_minor": 2
}
