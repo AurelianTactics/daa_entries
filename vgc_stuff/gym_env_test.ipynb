{
 "cells": [
  {
   "cell_type": "code",
   "execution_count": 1,
   "metadata": {},
   "outputs": [],
   "source": [
    "from vgc.datatypes.Objects import PkmTeam, Pkm, GameState, Weather\n",
    "from vgc.engine.PkmBattleEnv import PkmBattleEnv\n",
    "from vgc.behaviour.BattlePolicies import RandomPlayer, TerminalPlayer"
   ]
  },
  {
   "cell_type": "code",
   "execution_count": null,
   "metadata": {},
   "outputs": [],
   "source": [
    "'''\n",
    "Useful code links\n",
    "https://gitlab.com/DracoStriker/pokemon-vgc-engine/-/blob/master/vgc/engine/PkmBattleEnv.py\n",
    "https://gitlab.com/DracoStriker/pokemon-vgc-engine/-/blob/master/vgc/datatypes/Constants.py\n",
    "https://gitlab.com/DracoStriker/pokemon-vgc-engine/-/blob/master/vgc/behaviour/BattlePolicies.py\n",
    "'''"
   ]
  },
  {
   "cell_type": "markdown",
   "metadata": {},
   "source": [
    "### Questions\n",
    "* How is action space determined\n",
    "    * DONE 4 moves + num pokemon to switch to\n",
    "* how do i grab the observation space from the env?\n",
    "* What happens to the action space when there is a faint and choose to swap to a faint?\n",
    "* how is reward determined and how should I do it?\n",
    "    * I am thinking like -1 to 1 with -1 and 1 for winning and losing\n",
    "        * some points for forcing a faint and damage and inflicting a bad status\n",
    "        * negative poitns for losing damage, a faint and getting hit with a bad status\n"
   ]
  },
  {
   "cell_type": "markdown",
   "metadata": {},
   "source": [
    "### Basic Tutorial example\n",
    "* render seems to not be working"
   ]
  },
  {
   "cell_type": "code",
   "execution_count": 3,
   "metadata": {},
   "outputs": [
    {
     "name": "stdout",
     "output_type": "stream",
     "text": [
      "1\n"
     ]
    }
   ],
   "source": [
    "team0, team1 = PkmTeam(), PkmTeam()\n",
    "agent0, agent1 = RandomPlayer(), RandomPlayer()\n",
    "env = PkmBattleEnv((team0, team1),\n",
    "                   encode=(agent0.requires_encode(), agent1.requires_encode()))  # set new environment with teams\n",
    "n_battles = 3  # total number of battles\n",
    "t = False\n",
    "battle = 0\n",
    "while battle < n_battles:\n",
    "    s, _ = env.reset()\n",
    "    while not t:  # True when all pkms of one of the two PkmTeam faint\n",
    "        a = [agent0.get_action(s[0]), agent1.get_action(s[1])]\n",
    "        s, _, t, _, _ = env.step(a)  # for inference, we don't need reward\n",
    "        #env.render()\n",
    "    t = False\n",
    "    battle += 1\n",
    "print(env.winner)  # winner id number\n"
   ]
  },
  {
   "cell_type": "code",
   "execution_count": 6,
   "metadata": {},
   "outputs": [
    {
     "name": "stdout",
     "output_type": "stream",
     "text": [
      "\n"
     ]
    }
   ],
   "source": [
    "#env.render(mode='ux')\n",
    "env.render(mode='console')"
   ]
  },
  {
   "cell_type": "code",
   "execution_count": 40,
   "metadata": {},
   "outputs": [
    {
     "data": {
      "text/plain": [
       "(<vgc.engine.PkmBattleEnv.PkmBattleEnv at 0x105a3b68d90>,\n",
       " <vgc.engine.PkmBattleEnv.PkmBattleEnv at 0x105a3aefee0>)"
      ]
     },
     "execution_count": 40,
     "metadata": {},
     "output_type": "execute_result"
    }
   ],
   "source": [
    "s"
   ]
  },
  {
   "cell_type": "markdown",
   "metadata": {},
   "source": [
    "### Exploring env"
   ]
  },
  {
   "cell_type": "code",
   "execution_count": 26,
   "metadata": {},
   "outputs": [
    {
     "name": "stdout",
     "output_type": "stream",
     "text": [
      "0\n"
     ]
    }
   ],
   "source": [
    "team0, team1 = PkmTeam(), PkmTeam()\n",
    "agent0, agent1 = RandomPlayer(), RandomPlayer()\n",
    "env = PkmBattleEnv((team0, team1),\n",
    "                   encode=(agent0.requires_encode(), agent1.requires_encode()))  # set new environment with teams\n",
    "n_battles = 1  # total number of battles\n",
    "terminated = False\n",
    "battle = 0\n",
    "while battle < n_battles:\n",
    "    obs, _ = env.reset()\n",
    "    while not terminated:  # True when all pkms of one of the two PkmTeam faint\n",
    "        action = [agent0.get_action(obs[0]), agent1.get_action(obs[1])]\n",
    "        obs, reward, terminated, truncated, info = env.step(action)  # for inference, we don't need reward\n",
    "        #env.render()\n",
    "    terminated = False\n",
    "    battle += 1\n",
    "print(env.winner)  # winner id number\n"
   ]
  },
  {
   "cell_type": "code",
   "execution_count": null,
   "metadata": {},
   "outputs": [],
   "source": []
  },
  {
   "cell_type": "code",
   "execution_count": 27,
   "metadata": {},
   "outputs": [
    {
     "data": {
      "text/plain": [
       "[0.875, 1.125]"
      ]
     },
     "execution_count": 27,
     "metadata": {},
     "output_type": "execute_result"
    }
   ],
   "source": [
    "reward"
   ]
  },
  {
   "cell_type": "code",
   "execution_count": 28,
   "metadata": {},
   "outputs": [
    {
     "name": "stdout",
     "output_type": "stream",
     "text": [
      "Discrete(1188)\n"
     ]
    }
   ],
   "source": [
    "print(env.observation_space)"
   ]
  },
  {
   "cell_type": "markdown",
   "metadata": {},
   "source": [
    "#### figuring out action space\n",
    "* I think it's the 4 current moves plus switching to one of the other pokemon.\n",
    "    * https://gitlab.com/DracoStriker/pokemon-vgc-engine/-/blob/master/vgc/behaviour/BattlePolicies.py#L25\n",
    "    * self.n_actions: int = n_moves + n_switches\n",
    "* would ahve to test to confirm"
   ]
  },
  {
   "cell_type": "code",
   "execution_count": null,
   "metadata": {},
   "outputs": [],
   "source": [
    "# huh the obs is an env object passed in so getting the action out of it is complicated\n",
    "# random agent doesn't even use it. just randomizes between n_actions\n"
   ]
  },
  {
   "cell_type": "code",
   "execution_count": 36,
   "metadata": {},
   "outputs": [
    {
     "name": "stdout",
     "output_type": "stream",
     "text": [
      "[<vgc.datatypes.Objects.Pkm object at 0x00000105A3B2A700>, <vgc.datatypes.Objects.Pkm object at 0x00000105A3B2AD30>]\n",
      "False\n",
      "[<vgc.datatypes.Objects.Pkm object at 0x00000105A3B2AB20>, <vgc.datatypes.Objects.Pkm object at 0x00000105A3B2A700>, <vgc.datatypes.Objects.Pkm object at 0x00000105A3B2AD30>]\n",
      "3\n"
     ]
    }
   ],
   "source": [
    "# so party is two members or three? idk maybe roster is 3 and chose two for the battle?\n",
    "# team0, team1 = PkmTeam(), PkmTeam()\n",
    "\n",
    "print(team0.party)\n",
    "print(team0.fainted())\n",
    "print(team0.get_pkm_list())\n",
    "# I guess 3?\n",
    "print(env.teams[0].size())"
   ]
  },
  {
   "cell_type": "code",
   "execution_count": 16,
   "metadata": {},
   "outputs": [
    {
     "data": {
      "text/plain": [
       "['__class__',\n",
       " '__delattr__',\n",
       " '__dict__',\n",
       " '__dir__',\n",
       " '__doc__',\n",
       " '__eq__',\n",
       " '__format__',\n",
       " '__ge__',\n",
       " '__getattribute__',\n",
       " '__gt__',\n",
       " '__hash__',\n",
       " '__init__',\n",
       " '__init_subclass__',\n",
       " '__le__',\n",
       " '__lt__',\n",
       " '__module__',\n",
       " '__ne__',\n",
       " '__new__',\n",
       " '__reduce__',\n",
       " '__reduce_ex__',\n",
       " '__repr__',\n",
       " '__setattr__',\n",
       " '__sizeof__',\n",
       " '__slotnames__',\n",
       " '__str__',\n",
       " '__subclasshook__',\n",
       " '__weakref__',\n",
       " 'active',\n",
       " 'confused',\n",
       " 'entry_hazard',\n",
       " 'fainted',\n",
       " 'get_not_fainted',\n",
       " 'get_pkm_list',\n",
       " 'n_turns_confused',\n",
       " 'party',\n",
       " 'reset',\n",
       " 'reset_team_members',\n",
       " 'size',\n",
       " 'stage',\n",
       " 'switch']"
      ]
     },
     "execution_count": 16,
     "metadata": {},
     "output_type": "execute_result"
    }
   ],
   "source": [
    "dir(team0)"
   ]
  },
  {
   "cell_type": "code",
   "execution_count": 12,
   "metadata": {},
   "outputs": [
    {
     "name": "stdout",
     "output_type": "stream",
     "text": [
      "Discrete(6)\n"
     ]
    }
   ],
   "source": [
    "print(env.action_space)\n",
    "\n",
    "#self.action_space = spaces.Discrete(DEFAULT_N_ACTIONS)\n",
    "\n",
    "# https://gitlab.com/DracoStriker/pokemon-vgc-engine/-/blob/master/vgc/datatypes/Constants.py\n",
    "#DEFAULT_N_ACTIONS = DEFAULT_PKM_N_MOVES + DEFAULT_PARTY_SIZE\n",
    "# DEFAULT_TEAM_SIZE = 3\n",
    "# DEFAULT_PARTY_SIZE = DEFAULT_TEAM_SIZE - 1\n",
    "# DEFAULT_N_MOVES_PKM = 4\n"
   ]
  },
  {
   "cell_type": "code",
   "execution_count": 14,
   "metadata": {},
   "outputs": [
    {
     "data": {
      "text/plain": [
       "['__class__',\n",
       " '__delattr__',\n",
       " '__dict__',\n",
       " '__dir__',\n",
       " '__doc__',\n",
       " '__eq__',\n",
       " '__format__',\n",
       " '__ge__',\n",
       " '__getattribute__',\n",
       " '__gt__',\n",
       " '__hash__',\n",
       " '__init__',\n",
       " '__init_subclass__',\n",
       " '__le__',\n",
       " '__lt__',\n",
       " '__module__',\n",
       " '__ne__',\n",
       " '__new__',\n",
       " '__reduce__',\n",
       " '__reduce_ex__',\n",
       " '__repr__',\n",
       " '__setattr__',\n",
       " '__sizeof__',\n",
       " '__str__',\n",
       " '__subclasshook__',\n",
       " '__weakref__',\n",
       " 'damage',\n",
       " 'recover',\n",
       " 'set_entry_hazard',\n",
       " 'set_fixed_damage',\n",
       " 'set_recover',\n",
       " 'set_stage',\n",
       " 'set_status',\n",
       " 'set_weather']"
      ]
     },
     "execution_count": 14,
     "metadata": {},
     "output_type": "execute_result"
    }
   ],
   "source": [
    "dir(env.PkmMoveView)"
   ]
  },
  {
   "cell_type": "code",
   "execution_count": 10,
   "metadata": {},
   "outputs": [
    {
     "data": {
      "text/plain": [
       "['PkmMoveView',\n",
       " '_PkmBattleEnv__create_pkm_move_view',\n",
       " '_PkmBattleEnv__get_attack_dmg_rcvr',\n",
       " '_PkmBattleEnv__get_attack_order',\n",
       " '_PkmBattleEnv__get_entry_hazard_damage',\n",
       " '_PkmBattleEnv__get_fixed_damage',\n",
       " '_PkmBattleEnv__get_forward_env',\n",
       " '_PkmBattleEnv__get_post_battle_damage',\n",
       " '_PkmBattleEnv__get_pre_combat_damage',\n",
       " '_PkmBattleEnv__get_recover',\n",
       " '_PkmBattleEnv__get_states',\n",
       " '_PkmBattleEnv__perform_pkm_attack',\n",
       " '_PkmBattleEnv__process_post_battle_effects',\n",
       " '_PkmBattleEnv__process_pre_battle_effects',\n",
       " '_PkmBattleEnv__process_switch_pkms',\n",
       " '_PkmBattleEnv__switch_fainted_pkm',\n",
       " '__annotations__',\n",
       " '__class__',\n",
       " '__class_getitem__',\n",
       " '__delattr__',\n",
       " '__dict__',\n",
       " '__dir__',\n",
       " '__doc__',\n",
       " '__enter__',\n",
       " '__eq__',\n",
       " '__exit__',\n",
       " '__format__',\n",
       " '__ge__',\n",
       " '__getattribute__',\n",
       " '__gt__',\n",
       " '__hash__',\n",
       " '__init__',\n",
       " '__init_subclass__',\n",
       " '__le__',\n",
       " '__lt__',\n",
       " '__module__',\n",
       " '__ne__',\n",
       " '__new__',\n",
       " '__orig_bases__',\n",
       " '__parameters__',\n",
       " '__reduce__',\n",
       " '__reduce_ex__',\n",
       " '__repr__',\n",
       " '__setattr__',\n",
       " '__sizeof__',\n",
       " '__slots__',\n",
       " '__str__',\n",
       " '__subclasshook__',\n",
       " '__weakref__',\n",
       " '_is_protocol',\n",
       " '_np_random',\n",
       " 'action_space',\n",
       " 'close',\n",
       " 'commands',\n",
       " 'conn',\n",
       " 'debug',\n",
       " 'game_state_view',\n",
       " 'get_wrapper_attr',\n",
       " 'log',\n",
       " 'metadata',\n",
       " 'move_view',\n",
       " 'n_turns_no_clear',\n",
       " 'np_random',\n",
       " 'observation_space',\n",
       " 'predictions',\n",
       " 'render',\n",
       " 'render_mode',\n",
       " 'requires_encode',\n",
       " 'reset',\n",
       " 'reward_range',\n",
       " 'set_predictions',\n",
       " 'spec',\n",
       " 'step',\n",
       " 'switched',\n",
       " 'teams',\n",
       " 'turn',\n",
       " 'unwrapped',\n",
       " 'weather',\n",
       " 'winner']"
      ]
     },
     "execution_count": 10,
     "metadata": {},
     "output_type": "execute_result"
    }
   ],
   "source": [
    "dir(env)"
   ]
  },
  {
   "cell_type": "code",
   "execution_count": 32,
   "metadata": {},
   "outputs": [
    {
     "data": {
      "text/plain": [
       "['__class__',\n",
       " '__delattr__',\n",
       " '__dict__',\n",
       " '__dir__',\n",
       " '__doc__',\n",
       " '__eq__',\n",
       " '__format__',\n",
       " '__ge__',\n",
       " '__getattribute__',\n",
       " '__gt__',\n",
       " '__hash__',\n",
       " '__init__',\n",
       " '__init_subclass__',\n",
       " '__le__',\n",
       " '__lt__',\n",
       " '__module__',\n",
       " '__ne__',\n",
       " '__new__',\n",
       " '__reduce__',\n",
       " '__reduce_ex__',\n",
       " '__repr__',\n",
       " '__setattr__',\n",
       " '__sizeof__',\n",
       " '__slotnames__',\n",
       " '__str__',\n",
       " '__subclasshook__',\n",
       " '__weakref__',\n",
       " 'active',\n",
       " 'confused',\n",
       " 'entry_hazard',\n",
       " 'fainted',\n",
       " 'get_not_fainted',\n",
       " 'get_pkm_list',\n",
       " 'n_turns_confused',\n",
       " 'party',\n",
       " 'reset',\n",
       " 'reset_team_members',\n",
       " 'size',\n",
       " 'stage',\n",
       " 'switch']"
      ]
     },
     "execution_count": 32,
     "metadata": {},
     "output_type": "execute_result"
    }
   ],
   "source": [
    "dir(env.teams[0])"
   ]
  },
  {
   "cell_type": "code",
   "execution_count": 34,
   "metadata": {},
   "outputs": [
    {
     "data": {
      "text/plain": [
       "3"
      ]
     },
     "execution_count": 34,
     "metadata": {},
     "output_type": "execute_result"
    }
   ],
   "source": [
    "env.teams[0].size()"
   ]
  },
  {
   "cell_type": "code",
   "execution_count": 35,
   "metadata": {},
   "outputs": [
    {
     "data": {
      "text/plain": [
       "3"
      ]
     },
     "execution_count": 35,
     "metadata": {},
     "output_type": "execute_result"
    }
   ],
   "source": [
    "env.teams[1].size()"
   ]
  },
  {
   "cell_type": "code",
   "execution_count": null,
   "metadata": {},
   "outputs": [],
   "source": []
  }
 ],
 "metadata": {
  "kernelspec": {
   "display_name": "Python 3",
   "language": "python",
   "name": "python3"
  },
  "language_info": {
   "codemirror_mode": {
    "name": "ipython",
    "version": 3
   },
   "file_extension": ".py",
   "mimetype": "text/x-python",
   "name": "python",
   "nbconvert_exporter": "python",
   "pygments_lexer": "ipython3",
   "version": "3.9.9"
  }
 },
 "nbformat": 4,
 "nbformat_minor": 2
}
