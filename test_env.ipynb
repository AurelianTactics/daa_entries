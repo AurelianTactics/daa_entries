{
 "cells": [
  {
   "cell_type": "code",
   "execution_count": 2,
   "metadata": {},
   "outputs": [
    {
     "data": {
      "text/plain": [
       "'\\nworking\\n\\n\\n'"
      ]
     },
     "execution_count": 2,
     "metadata": {},
     "output_type": "execute_result"
    }
   ],
   "source": [
    "\n",
    "import pprint\n",
    "\n",
    "#from examples.random_agent.dice_adventure_python_env import DiceAdventurePythonEnv\n",
    "from game.env.dice_adventure_python_env import DiceAdventurePythonEnv\n",
    "from game.env.at_dice_adventure_python_env import ATDiceAdventurePythonEnv\n",
    "from examples.random_agent.agent import DiceAdventureAgent\n",
    "\n",
    "PLAYERS = [\"Dwarf\", \"Giant\", \"Human\"]\n",
    "SERVER = \"local\"\n",
    "ACTION_LIST = [\"up\", \"down\", \"left\", \"right\", \"wait\", \"undo\", \"submit\", \"pinga\", \"pingb\", \"pingc\", \"pingd\"]\n",
    "\n",
    "'''\n",
    "working\n",
    "\n",
    "\n",
    "'''"
   ]
  },
  {
   "cell_type": "markdown",
   "metadata": {},
   "source": [
    "### Notes\n",
    "* A bunch of this stopped working on 3/26/24 update"
   ]
  },
  {
   "cell_type": "markdown",
   "metadata": {},
   "source": [
    "### Testing how the gynmaisum env works"
   ]
  },
  {
   "cell_type": "code",
   "execution_count": 1,
   "metadata": {},
   "outputs": [],
   "source": []
  },
  {
   "cell_type": "markdown",
   "metadata": {},
   "source": [
    "### Basics"
   ]
  },
  {
   "cell_type": "code",
   "execution_count": 4,
   "metadata": {},
   "outputs": [
    {
     "name": "stdout",
     "output_type": "stream",
     "text": [
      "{'command': 'get_state',\n",
      " 'content': {'gameData': {'boardHeight': 4,\n",
      "                          'boardWidth': 3,\n",
      "                          'currentPhase': 'Player_Pinning',\n",
      "                          'level': 1,\n",
      "                          'num_repeats': 0},\n",
      "             'scene': [{'actionPoints': 2,\n",
      "                        'combatDice': 'D4+0',\n",
      "                        'name': 'M1',\n",
      "                        'type': 'S_Monster',\n",
      "                        'x': 0,\n",
      "                        'y': 0},\n",
      "                       {'actionPoints': 2,\n",
      "                        'combatDice': 'D6+0',\n",
      "                        'name': 'M2',\n",
      "                        'type': 'M_Monster',\n",
      "                        'x': 1,\n",
      "                        'y': 0},\n",
      "                       {'actionPoints': 2,\n",
      "                        'combatDice': 'D4+0',\n",
      "                        'name': 'M1(2)',\n",
      "                        'type': 'S_Monster',\n",
      "                        'x': 2,\n",
      "                        'y': 0},\n",
      "                       {'actionPlan': [],\n",
      "                        'actionPoints': 6,\n",
      "                        'action_plan_finalized': False,\n",
      "                        'characterId': 1,\n",
      "                        'dead': False,\n",
      "                        'health': 3,\n",
      "                        'monsterDice': 'D8+0',\n",
      "                        'name': 'Dwarf',\n",
      "                        'pinCursorX': 0,\n",
      "                        'pinCursorY': 1,\n",
      "                        'sightRange': 1,\n",
      "                        'stoneDice': 'D6+0',\n",
      "                        'trapDice': 'D6+0',\n",
      "                        'type': 'Dwarf',\n",
      "                        'x': 0,\n",
      "                        'y': 1},\n",
      "                       {'actionPlan': [],\n",
      "                        'actionPoints': 2,\n",
      "                        'action_plan_finalized': False,\n",
      "                        'characterId': 2,\n",
      "                        'dead': False,\n",
      "                        'health': 3,\n",
      "                        'monsterDice': 'D6+0',\n",
      "                        'name': 'Giant',\n",
      "                        'pinCursorX': 1,\n",
      "                        'pinCursorY': 1,\n",
      "                        'sightRange': 3,\n",
      "                        'stoneDice': 'D4+0',\n",
      "                        'trapDice': 'D8+0',\n",
      "                        'type': 'Giant',\n",
      "                        'x': 1,\n",
      "                        'y': 1},\n",
      "                       {'actionPlan': [],\n",
      "                        'actionPoints': 4,\n",
      "                        'action_plan_finalized': False,\n",
      "                        'characterId': 3,\n",
      "                        'dead': False,\n",
      "                        'health': 3,\n",
      "                        'monsterDice': 'D6+0',\n",
      "                        'name': 'Human',\n",
      "                        'pinCursorX': 2,\n",
      "                        'pinCursorY': 1,\n",
      "                        'sightRange': 2,\n",
      "                        'stoneDice': 'D8+0',\n",
      "                        'trapDice': 'D4+0',\n",
      "                        'type': 'Human',\n",
      "                        'x': 2,\n",
      "                        'y': 1},\n",
      "                       {'character': 'Dwarf',\n",
      "                        'name': 'Shrine',\n",
      "                        'reached': False,\n",
      "                        'type': 'shrine',\n",
      "                        'x': 0,\n",
      "                        'y': 2},\n",
      "                       {'character': 'Giant',\n",
      "                        'name': 'Shrine',\n",
      "                        'reached': False,\n",
      "                        'type': 'shrine',\n",
      "                        'x': 1,\n",
      "                        'y': 2},\n",
      "                       {'character': 'Human',\n",
      "                        'name': 'Shrine',\n",
      "                        'reached': False,\n",
      "                        'type': 'shrine',\n",
      "                        'x': 2,\n",
      "                        'y': 2},\n",
      "                       {'name': 'Wall', 'type': 'wall', 'x': 0, 'y': 3},\n",
      "                       {'name': 'Tower',\n",
      "                        'subgoalCount': 0,\n",
      "                        'type': 'goal',\n",
      "                        'x': 1,\n",
      "                        'y': 3},\n",
      "                       {'name': 'Wall', 'type': 'wall', 'x': 2, 'y': 3}]},\n",
      " 'message': 'Full State',\n",
      " 'status': 'OK'}\n"
     ]
    }
   ],
   "source": [
    "\n",
    "# Load agent\n",
    "agent = DiceAdventureAgent()\n",
    "# Set up environment\n",
    "env = DiceAdventurePythonEnv(server=SERVER)\n",
    "state = env.reset()[0]\n",
    "\n",
    "pprint.pprint(state)\n",
    "# while True:\n",
    "#     for p in PLAYERS:\n",
    "#         action = agent.take_action(state=state, actions=ACTION_LIST)\n",
    "#         state = env.execute_action(player=p, game_action=action)\n",
    "#     # env.render()\n",
    "#     import pdb; pdb.set_trace()\n"
   ]
  },
  {
   "cell_type": "markdown",
   "metadata": {},
   "source": [
    "### Env until a done \n"
   ]
  },
  {
   "cell_type": "code",
   "execution_count": 10,
   "metadata": {},
   "outputs": [],
   "source": [
    "# seeing how things run until a done\n",
    "\n",
    "# Load agent\n",
    "agent = DiceAdventureAgent()\n",
    "# Set up environment\n",
    "env = DiceAdventurePythonEnv(server=SERVER, player='Human')\n",
    "state = env.reset()[0]\n",
    "\n",
    "ACTION_LIST = [\"up\", \"down\", \"left\", \"right\", \"wait\", \"undo\", \"submit\", \"pinga\", \"pingb\", \"pingc\", \"pingd\"]\n",
    "action = \"wait\"\n",
    "new_obs, reward, terminated, truncated, info = env.step(action)\n",
    "#pprint.pprint(state)\n",
    "# while True:\n",
    "#     for p in PLAYERS:\n",
    "#         action = agent.take_action(state=state, actions=ACTION_LIST)\n",
    "#         state = env.execute_action(player=p, game_action=action)\n",
    "#     env.render()\n",
    "#     #import pdb; pdb.set_trace()"
   ]
  },
  {
   "cell_type": "code",
   "execution_count": 15,
   "metadata": {},
   "outputs": [
    {
     "name": "stdout",
     "output_type": "stream",
     "text": [
      "0 False False {}\n"
     ]
    }
   ],
   "source": [
    "print(reward, terminated, truncated, info, )"
   ]
  },
  {
   "cell_type": "code",
   "execution_count": 19,
   "metadata": {},
   "outputs": [
    {
     "data": {
      "text/plain": [
       "'OK'"
      ]
     },
     "execution_count": 19,
     "metadata": {},
     "output_type": "execute_result"
    }
   ],
   "source": [
    "new_obs['status']"
   ]
  },
  {
   "cell_type": "markdown",
   "metadata": {},
   "source": [
    "### Notes\n",
    "* new_obs['status'] 'OK' if not done, 'done' if done"
   ]
  },
  {
   "cell_type": "code",
   "execution_count": null,
   "metadata": {},
   "outputs": [],
   "source": []
  },
  {
   "cell_type": "markdown",
   "metadata": {},
   "source": [
    "### SEeing if it ever finishes and if so what happens when it is"
   ]
  },
  {
   "cell_type": "code",
   "execution_count": 24,
   "metadata": {},
   "outputs": [
    {
     "name": "stdout",
     "output_type": "stream",
     "text": [
      "1000 Status is  OK\n",
      "2000 Status is  OK\n",
      "3000 Status is  OK\n",
      "4000 Status is  OK\n",
      "5000 Status is  OK\n",
      "6000 Status is  OK\n",
      "7000 Status is  OK\n",
      "8000 Status is  OK\n",
      "9000 Status is  OK\n",
      "10000 Status is  OK\n"
     ]
    }
   ],
   "source": [
    "# Load agent\n",
    "agent = DiceAdventureAgent()\n",
    "# Set up environment\n",
    "env = DiceAdventurePythonEnv(server=SERVER, player='Human')\n",
    "state = env.reset()[0]\n",
    "\n",
    "ACTION_LIST = [\"up\", \"down\", \"left\", \"right\", \"wait\", \"undo\", \"submit\", \"pinga\", \"pingb\", \"pingc\", \"pingd\"]\n",
    "action = \"wait\"\n",
    "\n",
    "num_timesteps = 0\n",
    "while True:\n",
    "    action = agent.take_action(state=state, actions=ACTION_LIST)\n",
    "    new_obs, reward, terminated, truncated, info = env.step(action)\n",
    "    num_timesteps += 1\n",
    "\n",
    "    if num_timesteps % 1000 == 0:\n",
    "        print(f'{num_timesteps} Status is ', new_obs['status'])\n",
    "\n",
    "    if num_timesteps >= 10000 or terminated:\n",
    "        break"
   ]
  },
  {
   "cell_type": "code",
   "execution_count": null,
   "metadata": {},
   "outputs": [],
   "source": []
  },
  {
   "cell_type": "markdown",
   "metadata": {},
   "source": [
    "### how the ping action works\n",
    "pin action is first select pin type (when you do it resets to your location)\n",
    "\tthen select the directions to where you want to put it\n",
    "\tthen finalize it\n",
    "\tneed a ping selected and submitted to show up in the map\n",
    "\tonly after all 3 submits are done does state move (I think, test next)"
   ]
  },
  {
   "cell_type": "code",
   "execution_count": 88,
   "metadata": {},
   "outputs": [],
   "source": [
    "# dir(env.game.board.objects[\"2S\"])"
   ]
  },
  {
   "cell_type": "code",
   "execution_count": 71,
   "metadata": {},
   "outputs": [],
   "source": [
    "def get_pin_finalized(env, player_dict={\"Dwarf\": \"1S\", \"Giant\": \"2S\", \"Human\": \"3S\"}, tag=\"\"):\n",
    "    print(f\"--- {tag} ---\")\n",
    "    for player, key, in player_dict.items():\n",
    "        print(f\"{player} | pin (x,y) {env.game.board.objects[key].pin_x, env.game.board.objects[key].pin_y} | is pin_finalized {env.game.board.objects[key].pin_finalized} \"\\\n",
    "              f\"| placed_pin {env.game.board.objects[key].placed_pin} | action_points {env.game.board.objects[key].action_points}\")\n",
    "    print(\"___\")\n",
    "\n",
    "def get_player_state_info(state, player_list):\n",
    "    for scene_object in state['content']['scene']:\n",
    "        if 'name' in scene_object and scene_object['name'] in player_list:\n",
    "            pprint.pprint(scene_object)"
   ]
  },
  {
   "cell_type": "code",
   "execution_count": 86,
   "metadata": {},
   "outputs": [
    {
     "name": "stdout",
     "output_type": "stream",
     "text": [
      "--- pre_action ---\n",
      "Dwarf | pin (x,y) (0, 1) | is pin_finalized False | placed_pin False | action_points 6\n",
      "Giant | pin (x,y) (1, 1) | is pin_finalized False | placed_pin False | action_points 2\n",
      "Human | pin (x,y) (2, 1) | is pin_finalized False | placed_pin False | action_points 4\n",
      "___\n",
      "{'actionPlan': [],\n",
      " 'actionPoints': 2,\n",
      " 'action_plan_finalized': False,\n",
      " 'characterId': 2,\n",
      " 'dead': False,\n",
      " 'health': 3,\n",
      " 'monsterDice': 'D6+0',\n",
      " 'name': 'Giant',\n",
      " 'pinCursorX': 1,\n",
      " 'pinCursorY': 1,\n",
      " 'sightRange': 3,\n",
      " 'stoneDice': 'D4+0',\n",
      " 'trapDice': 'D8+0',\n",
      " 'type': 'Giant',\n",
      " 'x': 1,\n",
      " 'y': 1}\n",
      "--- post_action ---\n",
      "Dwarf | pin (x,y) (0, 1) | is pin_finalized False | placed_pin False | action_points 6\n",
      "Giant | pin (x,y) (1, 1) | is pin_finalized True | placed_pin False | action_points 2\n",
      "Human | pin (x,y) (2, 1) | is pin_finalized False | placed_pin False | action_points 4\n",
      "___\n",
      "{'actionPlan': [],\n",
      " 'actionPoints': 2,\n",
      " 'action_plan_finalized': False,\n",
      " 'characterId': 2,\n",
      " 'dead': False,\n",
      " 'health': 3,\n",
      " 'monsterDice': 'D6+0',\n",
      " 'name': 'Giant',\n",
      " 'pinCursorX': 1,\n",
      " 'pinCursorY': 1,\n",
      " 'sightRange': 3,\n",
      " 'stoneDice': 'D4+0',\n",
      " 'trapDice': 'D8+0',\n",
      " 'type': 'Giant',\n",
      " 'x': 1,\n",
      " 'y': 1}\n"
     ]
    }
   ],
   "source": [
    "# seeing how things run until a done\n",
    "\n",
    "# Load agent\n",
    "agent = DiceAdventureAgent()\n",
    "# Set up environment\n",
    "env = DiceAdventurePythonEnv(server=SERVER)\n",
    "state = env.reset()[0]\n",
    "PLAYERS = [\"Dwarf\", \"Giant\", \"Human\"]\n",
    "\n",
    "ACTION_LIST = [\"up\", \"down\", \"left\", \"right\", \"wait\", \"undo\", \"submit\", \"pinga\", \"pingb\", \"pingc\", \"pingd\"]\n",
    "\n",
    "get_pin_finalized(env, tag=\"pre_action\")\n",
    "get_player_state_info(state, ['Giant'])\n",
    "\n",
    "#new_state = env.execute_action('Giant', game_action=\"pinga\")\n",
    "# new_state = env.execute_action('Giant', game_action=\"left\")\n",
    "# #new_state = env.execute_action('Giant', game_action=\"undo\")\n",
    "new_state = env.execute_action('Giant', game_action=\"submit\")\n",
    "\n",
    "\n",
    "get_pin_finalized(env, tag=\"post_action\")\n",
    "get_player_state_info(new_state, ['Giant'])\n",
    "#new_obs, reward, terminated, truncated, info = env.step(action)\n",
    "#pprint.pprint(state)\n",
    "# while True:\n",
    "#     for p in PLAYERS:\n",
    "#         action = agent.take_action(state=state, actions=ACTION_LIST)\n",
    "#         state = env.execute_action(player=p, game_action=action)\n",
    "#     env.render()\n",
    "#     #import pdb; pdb.set_trace()"
   ]
  },
  {
   "cell_type": "code",
   "execution_count": 89,
   "metadata": {},
   "outputs": [],
   "source": [
    "# new_state['content']['scene']\n",
    "\n",
    "\n"
   ]
  },
  {
   "cell_type": "code",
   "execution_count": null,
   "metadata": {},
   "outputs": [],
   "source": []
  },
  {
   "cell_type": "markdown",
   "metadata": {},
   "source": [
    "### Confirm how to get to next part of the state\n",
    "* submit from all three"
   ]
  },
  {
   "cell_type": "code",
   "execution_count": 95,
   "metadata": {},
   "outputs": [
    {
     "name": "stdout",
     "output_type": "stream",
     "text": [
      "{'boardHeight': 4,\n",
      " 'boardWidth': 3,\n",
      " 'currentPhase': 'Player_Pinning',\n",
      " 'level': 1,\n",
      " 'num_repeats': 0}\n",
      "{'boardHeight': 4,\n",
      " 'boardWidth': 3,\n",
      " 'currentPhase': 'Player_Planning',\n",
      " 'level': 1,\n",
      " 'num_repeats': 0}\n",
      "{'boardHeight': 4,\n",
      " 'boardWidth': 3,\n",
      " 'currentPhase': 'Player_Pinning',\n",
      " 'level': 1,\n",
      " 'num_repeats': 0}\n"
     ]
    }
   ],
   "source": [
    "# seeing how things run until a done\n",
    "\n",
    "# Load agent\n",
    "agent = DiceAdventureAgent()\n",
    "# Set up environment\n",
    "env = DiceAdventurePythonEnv(server=SERVER)\n",
    "state = env.reset()[0]\n",
    "PLAYERS = [\"Dwarf\", \"Giant\", \"Human\"]\n",
    "\n",
    "ACTION_LIST = [\"up\", \"down\", \"left\", \"right\", \"wait\", \"undo\", \"submit\", \"pinga\", \"pingb\", \"pingc\", \"pingd\"]\n",
    "\n",
    "# get_pin_finalized(env, tag=\"pre_action\")\n",
    "# get_player_state_info(state, ['Giant'])\n",
    "\n",
    "#new_state = env.execute_action('Giant', game_action=\"pinga\")\n",
    "# new_state = env.execute_action('Giant', game_action=\"left\")\n",
    "# #new_state = env.execute_action('Giant', game_action=\"undo\")\n",
    "new_state = env.execute_action('Giant', game_action=\"submit\")\n",
    "new_state = env.execute_action('Human', game_action=\"submit\")\n",
    "new_state = env.execute_action('Dwarf', game_action=\"submit\")\n",
    "\n",
    "pprint.pprint(state['content']['gameData'])\n",
    "pprint.pprint(new_state['content']['gameData'])\n",
    "\n",
    "new_state = env.execute_action('Giant', game_action=\"submit\")\n",
    "new_state = env.execute_action('Human', game_action=\"submit\")\n",
    "new_state = env.execute_action('Dwarf', game_action=\"submit\")\n",
    "pprint.pprint(new_state['content']['gameData'])\n",
    "# get_pin_finalized(env, tag=\"post_action\")"
   ]
  },
  {
   "cell_type": "code",
   "execution_count": null,
   "metadata": {},
   "outputs": [],
   "source": []
  },
  {
   "cell_type": "markdown",
   "metadata": {},
   "source": [
    "### Beat a level"
   ]
  },
  {
   "cell_type": "code",
   "execution_count": 113,
   "metadata": {},
   "outputs": [
    {
     "name": "stdout",
     "output_type": "stream",
     "text": [
      "Game Info:\n",
      "+----------------+----------------+\n",
      "| Level:         | 1              |\n",
      "+----------------+----------------+\n",
      "| Phase:         | Player_Pinning |\n",
      "+----------------+----------------+\n",
      "| Subgoal Count: | 0              |\n",
      "+----------------+----------------+\n",
      "Grid:\n",
      "+----+----+-------+\n",
      "| ## | ** | ##    |\n",
      "+----+----+-------+\n",
      "| 1G | 2G | 3G    |\n",
      "+----+----+-------+\n",
      "| 1S | 2S | 3S    |\n",
      "+----+----+-------+\n",
      "| M1 | M2 | M1(2) |\n",
      "+----+----+-------+\n",
      "\n"
     ]
    }
   ],
   "source": [
    "env = DiceAdventurePythonEnv(server=SERVER)\n",
    "state = env.reset()[0]\n",
    "env.render()"
   ]
  },
  {
   "cell_type": "code",
   "execution_count": 116,
   "metadata": {},
   "outputs": [
    {
     "name": "stdout",
     "output_type": "stream",
     "text": [
      "OK Full State {'boardWidth': 3, 'boardHeight': 4, 'level': 1, 'num_repeats': 0, 'currentPhase': 'Player_Planning'}\n",
      "OK Full State {'boardWidth': 3, 'boardHeight': 6, 'level': 2, 'num_repeats': 1, 'currentPhase': 'Player_Pinning'}\n",
      "Game Info:\n",
      "+----------------+----------------+\n",
      "| Level:         | 2              |\n",
      "+----------------+----------------+\n",
      "| Phase:         | Player_Pinning |\n",
      "+----------------+----------------+\n",
      "| Subgoal Count: | 0              |\n",
      "+----------------+----------------+\n",
      "Grid:\n",
      "+----+-------+-------+\n",
      "| ## | **    | ##    |\n",
      "+----+-------+-------+\n",
      "| ## |       | ##    |\n",
      "+----+-------+-------+\n",
      "| ## | M2    | ##    |\n",
      "+----+-------+-------+\n",
      "| 1G | 2G    | 3G    |\n",
      "+----+-------+-------+\n",
      "| M1 | M1(2) | M1(3) |\n",
      "+----+-------+-------+\n",
      "| 1S | 2S    | 3S    |\n",
      "+----+-------+-------+\n",
      "\n"
     ]
    }
   ],
   "source": [
    "# seeing how things run until a done\n",
    "\n",
    "# Load agent\n",
    "agent = DiceAdventureAgent()\n",
    "# Set up environment\n",
    "env = DiceAdventurePythonEnv(server=SERVER)\n",
    "state = env.reset()[0]\n",
    "PLAYERS = [\"Dwarf\", \"Giant\", \"Human\"]\n",
    "\n",
    "ACTION_LIST = [\"up\", \"down\", \"left\", \"right\", \"wait\", \"undo\", \"submit\", \"pinga\", \"pingb\", \"pingc\", \"pingd\"]\n",
    "\n",
    "\n",
    "for i in range(1):\n",
    "    if state['content']['gameData']['currentPhase'] == 'Player_Pinning':\n",
    "        state = env.execute_action('Giant', game_action=\"submit\")\n",
    "        state = env.execute_action('Human', game_action=\"submit\")\n",
    "        state = env.execute_action('Dwarf', game_action=\"submit\")\n",
    "\n",
    "    # if state['content']['gameData']['currentPhase'] == 'Player_Planning':\n",
    "    #     state = env.execute_action('Giant', game_action=\"submit\")\n",
    "    #     state = env.execute_action('Human', game_action=\"submit\")\n",
    "    #     state = env.execute_action('Dwarf', game_action=\"submit\")\n",
    "\n",
    "    #if state['content']['gameData']['currentPhase'] == 'Player_Pinning':\n",
    "    print(state['status'], state['message'], state['content']['gameData'])\n",
    "\n",
    "    state = env.execute_action('Giant', game_action=\"up\")\n",
    "    state = env.execute_action('Giant', game_action=\"up\")\n",
    "    state = env.execute_action('Giant', game_action=\"submit\")\n",
    "    state = env.execute_action('Human', game_action=\"up\")\n",
    "    state = env.execute_action('Human', game_action=\"up\")\n",
    "    state = env.execute_action('Human', game_action=\"submit\")\n",
    "    state = env.execute_action('Dwarf', game_action=\"up\")\n",
    "    state = env.execute_action('Dwarf', game_action=\"up\")\n",
    "    state = env.execute_action('Dwarf', game_action=\"submit\")\n",
    "    print(state['status'], state['message'], state['content']['gameData'])\n",
    "    env.render()\n"
   ]
  },
  {
   "cell_type": "code",
   "execution_count": 3,
   "metadata": {},
   "outputs": [],
   "source": [
    "# state"
   ]
  },
  {
   "cell_type": "code",
   "execution_count": null,
   "metadata": {},
   "outputs": [],
   "source": []
  },
  {
   "cell_type": "markdown",
   "metadata": {},
   "source": [
    "### See how collisions work\n",
    "* notes: players can share spaces\n",
    "* i think monster/traps roll into one side is eliminated or not\n",
    "* not sure about rocks"
   ]
  },
  {
   "cell_type": "code",
   "execution_count": 60,
   "metadata": {},
   "outputs": [
    {
     "name": "stdout",
     "output_type": "stream",
     "text": [
      "Game Info:\n",
      "+----------------+----------------+\n",
      "| Level:         | 1              |\n",
      "+----------------+----------------+\n",
      "| Phase:         | Player_Pinning |\n",
      "+----------------+----------------+\n",
      "| Subgoal Count: | 0              |\n",
      "+----------------+----------------+\n",
      "Grid:\n",
      "+----+----+-------+\n",
      "| ## | ** | ##    |\n",
      "+----+----+-------+\n",
      "| 1G | 2G | 3G    |\n",
      "+----+----+-------+\n",
      "| 1S | 2S | 3S    |\n",
      "+----+----+-------+\n",
      "| M1 | M2 | M1(2) |\n",
      "+----+----+-------+\n",
      "\n"
     ]
    }
   ],
   "source": [
    "env = DiceAdventurePythonEnv(server=SERVER)\n",
    "state = env.reset()[0]\n",
    "env.render()"
   ]
  },
  {
   "cell_type": "code",
   "execution_count": 56,
   "metadata": {},
   "outputs": [
    {
     "name": "stdout",
     "output_type": "stream",
     "text": [
      "OK Full State {'boardWidth': 3, 'boardHeight': 4, 'level': 1, 'currentPhase': 'Player_Planning'}\n",
      "OK Full State {'boardWidth': 3, 'boardHeight': 4, 'level': 1, 'currentPhase': 'Player_Pinning'}\n",
      "Game Info:\n",
      "+----------------+----------------+\n",
      "| Level:         | 1              |\n",
      "+----------------+----------------+\n",
      "| Phase:         | Player_Pinning |\n",
      "+----------------+----------------+\n",
      "| Subgoal Count: | 0              |\n",
      "+----------------+----------------+\n",
      "Grid:\n",
      "+----+----------+----+\n",
      "| ## | **       | ## |\n",
      "+----+----------+----+\n",
      "| 1G | 2G       | 3G |\n",
      "+----+----------+----+\n",
      "|    | 2S-1S-3S |    |\n",
      "+----+----------+----+\n",
      "|    | M2       |    |\n",
      "+----+----------+----+\n",
      "\n"
     ]
    }
   ],
   "source": [
    "# Load agent\n",
    "agent = DiceAdventureAgent()\n",
    "# Set up environment\n",
    "env = DiceAdventurePythonEnv(server=SERVER)\n",
    "state = env.reset()[0]\n",
    "PLAYERS = [\"Dwarf\", \"Giant\", \"Human\"]\n",
    "\n",
    "ACTION_LIST = [\"up\", \"down\", \"left\", \"right\", \"wait\", \"undo\", \"submit\", \"pinga\", \"pingb\", \"pingc\", \"pingd\"]\n",
    "\n",
    "\n",
    "for i in range(1):\n",
    "    if state['content']['gameData']['currentPhase'] == 'Player_Pinning':\n",
    "        state = env.execute_action('Giant', game_action=\"submit\")\n",
    "        state = env.execute_action('Human', game_action=\"submit\")\n",
    "        state = env.execute_action('Dwarf', game_action=\"submit\")\n",
    "\n",
    "    # if state['content']['gameData']['currentPhase'] == 'Player_Planning':\n",
    "    #     state = env.execute_action('Giant', game_action=\"submit\")\n",
    "    #     state = env.execute_action('Human', game_action=\"submit\")\n",
    "    #     state = env.execute_action('Dwarf', game_action=\"submit\")\n",
    "\n",
    "    #if state['content']['gameData']['currentPhase'] == 'Player_Pinning':\n",
    "    print(state['status'], state['message'], state['content']['gameData'])\n",
    "\n",
    "    # state = env.execute_action('Giant', game_action=\"up\")\n",
    "    # state = env.execute_action('Giant', game_action=\"up\")\n",
    "    state = env.execute_action('Giant', game_action=\"submit\")\n",
    "    state = env.execute_action('Human', game_action=\"left\")\n",
    "    #state = env.execute_action('Human', game_action=\"up\")\n",
    "    state = env.execute_action('Human', game_action=\"submit\")\n",
    "    state = env.execute_action('Dwarf', game_action=\"right\")\n",
    "    # state = env.execute_action('Dwarf', game_action=\"up\")\n",
    "    state = env.execute_action('Dwarf', game_action=\"submit\")\n",
    "    print(state['status'], state['message'], state['content']['gameData'])\n",
    "    env.render()\n"
   ]
  },
  {
   "cell_type": "code",
   "execution_count": 38,
   "metadata": {},
   "outputs": [
    {
     "name": "stdout",
     "output_type": "stream",
     "text": [
      "{'boardHeight': 4,\n",
      " 'boardWidth': 3,\n",
      " 'currentPhase': 'Player_Pinning',\n",
      " 'level': 1}\n"
     ]
    }
   ],
   "source": [
    "pprint.pprint(state['content']['gameData'])"
   ]
  },
  {
   "cell_type": "code",
   "execution_count": 39,
   "metadata": {},
   "outputs": [
    {
     "name": "stdout",
     "output_type": "stream",
     "text": [
      "[{'actionPlan': [],\n",
      "  'actionPoints': 5,\n",
      "  'characterId': 1,\n",
      "  'dead': False,\n",
      "  'entityType': 'Dwarf',\n",
      "  'health': 3,\n",
      "  'id': '1S-1',\n",
      "  'monsterDice': 'D8+0',\n",
      "  'objectCode': '1S',\n",
      "  'pinCursorX': 0,\n",
      "  'pinCursorY': 0,\n",
      "  'sightRange': 1,\n",
      "  'stoneDice': 'D6+0',\n",
      "  'trapDice': 'D6+0',\n",
      "  'x': 0,\n",
      "  'y': 0},\n",
      " {'characterId': 2,\n",
      "  'dead': False,\n",
      "  'entityType': 'Giant',\n",
      "  'health': 2,\n",
      "  'id': '2S-1',\n",
      "  'objectCode': '2S',\n",
      "  'x': 1,\n",
      "  'y': 1},\n",
      " {'entityType': 'Human', 'id': '3S-1', 'objectCode': '3S', 'x': 2, 'y': 1},\n",
      " {'character': 'Dwarf',\n",
      "  'entityType': 'shrine',\n",
      "  'id': '1G-1',\n",
      "  'objectCode': '1G',\n",
      "  'reached': False,\n",
      "  'x': 0,\n",
      "  'y': 2},\n",
      " {'character': 'Giant',\n",
      "  'entityType': 'shrine',\n",
      "  'id': '2G-1',\n",
      "  'objectCode': '2G',\n",
      "  'reached': False,\n",
      "  'x': 1,\n",
      "  'y': 2},\n",
      " {'entityType': 'monster', 'id': 'M2-1', 'objectCode': 'M2', 'x': 1, 'y': 2},\n",
      " {'character': 'Human',\n",
      "  'entityType': 'shrine',\n",
      "  'id': '3G-1',\n",
      "  'objectCode': '3G',\n",
      "  'reached': False,\n",
      "  'x': 2,\n",
      "  'y': 2},\n",
      " {'entityType': 'wall', 'id': '##-1', 'objectCode': '##', 'x': 0, 'y': 3},\n",
      " {'entityType': 'goal',\n",
      "  'id': '**-1',\n",
      "  'objectCode': '**',\n",
      "  'subgoalCount': 0,\n",
      "  'x': 1,\n",
      "  'y': 3},\n",
      " {'entityType': 'wall', 'id': '##-2', 'objectCode': '##', 'x': 2, 'y': 3}]\n"
     ]
    }
   ],
   "source": [
    "pprint.pprint(state['content']['scene'])\n"
   ]
  },
  {
   "cell_type": "code",
   "execution_count": 58,
   "metadata": {},
   "outputs": [
    {
     "name": "stdout",
     "output_type": "stream",
     "text": [
      "'OK'\n"
     ]
    }
   ],
   "source": [
    "pprint.pprint(state['status'])"
   ]
  },
  {
   "cell_type": "markdown",
   "metadata": {},
   "source": [
    "### Beat a Level post update my env"
   ]
  },
  {
   "cell_type": "code",
   "execution_count": 4,
   "metadata": {},
   "outputs": [
    {
     "ename": "KeyError",
     "evalue": "None",
     "output_type": "error",
     "traceback": [
      "\u001b[1;31m---------------------------------------------------------------------------\u001b[0m",
      "\u001b[1;31mKeyError\u001b[0m                                  Traceback (most recent call last)",
      "Cell \u001b[1;32mIn[4], line 9\u001b[0m\n\u001b[0;32m      5\u001b[0m ACTION_LIST \u001b[38;5;241m=\u001b[39m [\u001b[38;5;124m\"\u001b[39m\u001b[38;5;124mup\u001b[39m\u001b[38;5;124m\"\u001b[39m, \u001b[38;5;124m\"\u001b[39m\u001b[38;5;124mdown\u001b[39m\u001b[38;5;124m\"\u001b[39m, \u001b[38;5;124m\"\u001b[39m\u001b[38;5;124mleft\u001b[39m\u001b[38;5;124m\"\u001b[39m, \u001b[38;5;124m\"\u001b[39m\u001b[38;5;124mright\u001b[39m\u001b[38;5;124m\"\u001b[39m, \u001b[38;5;124m\"\u001b[39m\u001b[38;5;124mwait\u001b[39m\u001b[38;5;124m\"\u001b[39m, \u001b[38;5;124m\"\u001b[39m\u001b[38;5;124mundo\u001b[39m\u001b[38;5;124m\"\u001b[39m, \u001b[38;5;124m\"\u001b[39m\u001b[38;5;124msubmit\u001b[39m\u001b[38;5;124m\"\u001b[39m, \u001b[38;5;124m\"\u001b[39m\u001b[38;5;124mpinga\u001b[39m\u001b[38;5;124m\"\u001b[39m, \u001b[38;5;124m\"\u001b[39m\u001b[38;5;124mpingb\u001b[39m\u001b[38;5;124m\"\u001b[39m, \u001b[38;5;124m\"\u001b[39m\u001b[38;5;124mpingc\u001b[39m\u001b[38;5;124m\"\u001b[39m, \u001b[38;5;124m\"\u001b[39m\u001b[38;5;124mpingd\u001b[39m\u001b[38;5;124m\"\u001b[39m]\n\u001b[0;32m      8\u001b[0m env \u001b[38;5;241m=\u001b[39m ATDiceAdventurePythonEnv(server\u001b[38;5;241m=\u001b[39mSERVER,)\n\u001b[1;32m----> 9\u001b[0m state \u001b[38;5;241m=\u001b[39m \u001b[43menv\u001b[49m\u001b[38;5;241;43m.\u001b[39;49m\u001b[43mreset\u001b[49m\u001b[43m(\u001b[49m\u001b[43m)\u001b[49m[\u001b[38;5;241m0\u001b[39m]\n\u001b[0;32m     10\u001b[0m env\u001b[38;5;241m.\u001b[39mrender()\n",
      "File \u001b[1;32mc:\\Users\\james\\github_repos\\Dice-Adventure-Agents\\game\\env\\at_dice_adventure_python_env.py:117\u001b[0m, in \u001b[0;36mATDiceAdventurePythonEnv.reset\u001b[1;34m(self, **kwargs)\u001b[0m\n\u001b[0;32m    115\u001b[0m     \u001b[38;5;28mself\u001b[39m\u001b[38;5;241m.\u001b[39mgame \u001b[38;5;241m=\u001b[39m ATDiceAdventure(\u001b[38;5;241m*\u001b[39m\u001b[38;5;241m*\u001b[39m\u001b[38;5;28mself\u001b[39m\u001b[38;5;241m.\u001b[39mkwargs)\n\u001b[0;32m    116\u001b[0m     \u001b[38;5;28mself\u001b[39m\u001b[38;5;241m.\u001b[39mgame\u001b[38;5;241m.\u001b[39mreset_board_and_level()\n\u001b[1;32m--> 117\u001b[0m obs \u001b[38;5;241m=\u001b[39m \u001b[38;5;28;43mself\u001b[39;49m\u001b[38;5;241;43m.\u001b[39;49m\u001b[43mget_state\u001b[49m\u001b[43m(\u001b[49m\u001b[43m)\u001b[49m\n\u001b[0;32m    118\u001b[0m \u001b[38;5;28;01mreturn\u001b[39;00m obs, {}\n",
      "File \u001b[1;32mc:\\Users\\james\\github_repos\\Dice-Adventure-Agents\\game\\env\\at_dice_adventure_python_env.py:165\u001b[0m, in \u001b[0;36mATDiceAdventurePythonEnv.get_state\u001b[1;34m(self, player, version, server)\u001b[0m\n\u001b[0;32m    162\u001b[0m server \u001b[38;5;241m=\u001b[39m server \u001b[38;5;28;01mif\u001b[39;00m server \u001b[38;5;28;01melse\u001b[39;00m \u001b[38;5;28mself\u001b[39m\u001b[38;5;241m.\u001b[39mserver\n\u001b[0;32m    164\u001b[0m \u001b[38;5;28;01mif\u001b[39;00m server \u001b[38;5;241m==\u001b[39m \u001b[38;5;124m\"\u001b[39m\u001b[38;5;124mlocal\u001b[39m\u001b[38;5;124m\"\u001b[39m:\n\u001b[1;32m--> 165\u001b[0m     state \u001b[38;5;241m=\u001b[39m \u001b[38;5;28;43mself\u001b[39;49m\u001b[38;5;241;43m.\u001b[39;49m\u001b[43mgame\u001b[49m\u001b[38;5;241;43m.\u001b[39;49m\u001b[43mget_state\u001b[49m\u001b[43m(\u001b[49m\u001b[43mplayer\u001b[49m\u001b[43m,\u001b[49m\u001b[43m \u001b[49m\u001b[43mversion\u001b[49m\u001b[43m)\u001b[49m\n\u001b[0;32m    166\u001b[0m \u001b[38;5;28;01melse\u001b[39;00m:\n\u001b[0;32m    167\u001b[0m     url \u001b[38;5;241m=\u001b[39m \u001b[38;5;28mself\u001b[39m\u001b[38;5;241m.\u001b[39munity_socket_url\u001b[38;5;241m.\u001b[39mformat(player)\n",
      "File \u001b[1;32mc:\\Users\\james\\github_repos\\Dice-Adventure-Agents\\game\\at_dice_adventure.py:230\u001b[0m, in \u001b[0;36mATDiceAdventure.get_state\u001b[1;34m(self, player, version)\u001b[0m\n\u001b[0;32m    212\u001b[0m \u001b[38;5;250m\u001b[39m\u001b[38;5;124;03m\"\"\"\u001b[39;00m\n\u001b[0;32m    213\u001b[0m \u001b[38;5;124;03mConstructs a state representation of the game.\u001b[39;00m\n\u001b[0;32m    214\u001b[0m \u001b[38;5;124;03m:return: Dict\u001b[39;00m\n\u001b[0;32m    215\u001b[0m \u001b[38;5;124;03m\"\"\"\u001b[39;00m\n\u001b[0;32m    216\u001b[0m state \u001b[38;5;241m=\u001b[39m {\n\u001b[0;32m    217\u001b[0m     \u001b[38;5;124m\"\u001b[39m\u001b[38;5;124mcommand\u001b[39m\u001b[38;5;124m\"\u001b[39m: \u001b[38;5;124m\"\u001b[39m\u001b[38;5;124mget_state\u001b[39m\u001b[38;5;124m\"\u001b[39m,\n\u001b[0;32m    218\u001b[0m     \u001b[38;5;124m\"\u001b[39m\u001b[38;5;124mstatus\u001b[39m\u001b[38;5;124m\"\u001b[39m: \u001b[38;5;124m\"\u001b[39m\u001b[38;5;124mOK\u001b[39m\u001b[38;5;124m\"\u001b[39m \u001b[38;5;28;01mif\u001b[39;00m \u001b[38;5;129;01mnot\u001b[39;00m \u001b[38;5;28mself\u001b[39m\u001b[38;5;241m.\u001b[39mterminated \u001b[38;5;28;01melse\u001b[39;00m \u001b[38;5;124m\"\u001b[39m\u001b[38;5;124mDone\u001b[39m\u001b[38;5;124m\"\u001b[39m,\n\u001b[1;32m   (...)\u001b[0m\n\u001b[0;32m    228\u001b[0m     }\n\u001b[0;32m    229\u001b[0m }\n\u001b[1;32m--> 230\u001b[0m player_obj \u001b[38;5;241m=\u001b[39m \u001b[38;5;28mself\u001b[39m\u001b[38;5;241m.\u001b[39mboard\u001b[38;5;241m.\u001b[39mobjects[\u001b[38;5;28;43mself\u001b[39;49m\u001b[38;5;241;43m.\u001b[39;49m\u001b[43mplayer_code_mapping\u001b[49m\u001b[43m[\u001b[49m\u001b[43mplayer\u001b[49m\u001b[43m]\u001b[49m]\n\u001b[0;32m    231\u001b[0m \u001b[38;5;66;03m# Defines the set of grid locations currently visible to the player\u001b[39;00m\n\u001b[0;32m    232\u001b[0m sight_range \u001b[38;5;241m=\u001b[39m player_obj\u001b[38;5;241m.\u001b[39mget_mask_radius()\n",
      "\u001b[1;31mKeyError\u001b[0m: None"
     ]
    }
   ],
   "source": [
    "from game.env.at_dice_adventure_python_env import ATDiceAdventurePythonEnv\n",
    "SERVER = \"local\"\n",
    "PLAYERS = [\"Dwarf\", \"Giant\", \"Human\"]\n",
    "SERVER = \"local\"\n",
    "ACTION_LIST = [\"up\", \"down\", \"left\", \"right\", \"wait\", \"undo\", \"submit\", \"pinga\", \"pingb\", \"pingc\", \"pingd\"]\n",
    "\n",
    "\n",
    "env = ATDiceAdventurePythonEnv(server=SERVER,)\n",
    "state = env.reset()[0]\n",
    "env.render()"
   ]
  },
  {
   "cell_type": "code",
   "execution_count": 2,
   "metadata": {},
   "outputs": [
    {
     "ename": "KeyError",
     "evalue": "None",
     "output_type": "error",
     "traceback": [
      "\u001b[1;31m---------------------------------------------------------------------------\u001b[0m",
      "\u001b[1;31mKeyError\u001b[0m                                  Traceback (most recent call last)",
      "Cell \u001b[1;32mIn[2], line 3\u001b[0m\n\u001b[0;32m      1\u001b[0m \u001b[38;5;66;03m# Set up environment\u001b[39;00m\n\u001b[0;32m      2\u001b[0m env \u001b[38;5;241m=\u001b[39m ATDiceAdventurePythonEnv(server\u001b[38;5;241m=\u001b[39mSERVER)\n\u001b[1;32m----> 3\u001b[0m state \u001b[38;5;241m=\u001b[39m \u001b[43menv\u001b[49m\u001b[38;5;241;43m.\u001b[39;49m\u001b[43mreset\u001b[49m\u001b[43m(\u001b[49m\u001b[43m)\u001b[49m[\u001b[38;5;241m0\u001b[39m]\n\u001b[0;32m      4\u001b[0m PLAYERS \u001b[38;5;241m=\u001b[39m [\u001b[38;5;124m\"\u001b[39m\u001b[38;5;124mDwarf\u001b[39m\u001b[38;5;124m\"\u001b[39m, \u001b[38;5;124m\"\u001b[39m\u001b[38;5;124mGiant\u001b[39m\u001b[38;5;124m\"\u001b[39m, \u001b[38;5;124m\"\u001b[39m\u001b[38;5;124mHuman\u001b[39m\u001b[38;5;124m\"\u001b[39m]\n\u001b[0;32m      6\u001b[0m ACTION_LIST \u001b[38;5;241m=\u001b[39m [\u001b[38;5;124m\"\u001b[39m\u001b[38;5;124mup\u001b[39m\u001b[38;5;124m\"\u001b[39m, \u001b[38;5;124m\"\u001b[39m\u001b[38;5;124mdown\u001b[39m\u001b[38;5;124m\"\u001b[39m, \u001b[38;5;124m\"\u001b[39m\u001b[38;5;124mleft\u001b[39m\u001b[38;5;124m\"\u001b[39m, \u001b[38;5;124m\"\u001b[39m\u001b[38;5;124mright\u001b[39m\u001b[38;5;124m\"\u001b[39m, \u001b[38;5;124m\"\u001b[39m\u001b[38;5;124mwait\u001b[39m\u001b[38;5;124m\"\u001b[39m, \u001b[38;5;124m\"\u001b[39m\u001b[38;5;124mundo\u001b[39m\u001b[38;5;124m\"\u001b[39m, \u001b[38;5;124m\"\u001b[39m\u001b[38;5;124msubmit\u001b[39m\u001b[38;5;124m\"\u001b[39m, \u001b[38;5;124m\"\u001b[39m\u001b[38;5;124mpinga\u001b[39m\u001b[38;5;124m\"\u001b[39m, \u001b[38;5;124m\"\u001b[39m\u001b[38;5;124mpingb\u001b[39m\u001b[38;5;124m\"\u001b[39m, \u001b[38;5;124m\"\u001b[39m\u001b[38;5;124mpingc\u001b[39m\u001b[38;5;124m\"\u001b[39m, \u001b[38;5;124m\"\u001b[39m\u001b[38;5;124mpingd\u001b[39m\u001b[38;5;124m\"\u001b[39m]\n",
      "File \u001b[1;32mc:\\Users\\james\\github_repos\\Dice-Adventure-Agents\\game\\env\\at_dice_adventure_python_env.py:117\u001b[0m, in \u001b[0;36mATDiceAdventurePythonEnv.reset\u001b[1;34m(self, **kwargs)\u001b[0m\n\u001b[0;32m    115\u001b[0m     \u001b[38;5;28mself\u001b[39m\u001b[38;5;241m.\u001b[39mgame \u001b[38;5;241m=\u001b[39m ATDiceAdventure(\u001b[38;5;241m*\u001b[39m\u001b[38;5;241m*\u001b[39m\u001b[38;5;28mself\u001b[39m\u001b[38;5;241m.\u001b[39mkwargs)\n\u001b[0;32m    116\u001b[0m     \u001b[38;5;28mself\u001b[39m\u001b[38;5;241m.\u001b[39mgame\u001b[38;5;241m.\u001b[39mreset_board_and_level()\n\u001b[1;32m--> 117\u001b[0m obs \u001b[38;5;241m=\u001b[39m \u001b[38;5;28;43mself\u001b[39;49m\u001b[38;5;241;43m.\u001b[39;49m\u001b[43mget_state\u001b[49m\u001b[43m(\u001b[49m\u001b[43m)\u001b[49m\n\u001b[0;32m    118\u001b[0m \u001b[38;5;28;01mreturn\u001b[39;00m obs, {}\n",
      "File \u001b[1;32mc:\\Users\\james\\github_repos\\Dice-Adventure-Agents\\game\\env\\at_dice_adventure_python_env.py:165\u001b[0m, in \u001b[0;36mATDiceAdventurePythonEnv.get_state\u001b[1;34m(self, player, version, server)\u001b[0m\n\u001b[0;32m    162\u001b[0m server \u001b[38;5;241m=\u001b[39m server \u001b[38;5;28;01mif\u001b[39;00m server \u001b[38;5;28;01melse\u001b[39;00m \u001b[38;5;28mself\u001b[39m\u001b[38;5;241m.\u001b[39mserver\n\u001b[0;32m    164\u001b[0m \u001b[38;5;28;01mif\u001b[39;00m server \u001b[38;5;241m==\u001b[39m \u001b[38;5;124m\"\u001b[39m\u001b[38;5;124mlocal\u001b[39m\u001b[38;5;124m\"\u001b[39m:\n\u001b[1;32m--> 165\u001b[0m     state \u001b[38;5;241m=\u001b[39m \u001b[38;5;28;43mself\u001b[39;49m\u001b[38;5;241;43m.\u001b[39;49m\u001b[43mgame\u001b[49m\u001b[38;5;241;43m.\u001b[39;49m\u001b[43mget_state\u001b[49m\u001b[43m(\u001b[49m\u001b[43mplayer\u001b[49m\u001b[43m,\u001b[49m\u001b[43m \u001b[49m\u001b[43mversion\u001b[49m\u001b[43m)\u001b[49m\n\u001b[0;32m    166\u001b[0m \u001b[38;5;28;01melse\u001b[39;00m:\n\u001b[0;32m    167\u001b[0m     url \u001b[38;5;241m=\u001b[39m \u001b[38;5;28mself\u001b[39m\u001b[38;5;241m.\u001b[39munity_socket_url\u001b[38;5;241m.\u001b[39mformat(player)\n",
      "File \u001b[1;32mc:\\Users\\james\\github_repos\\Dice-Adventure-Agents\\game\\at_dice_adventure.py:230\u001b[0m, in \u001b[0;36mATDiceAdventure.get_state\u001b[1;34m(self, player, version)\u001b[0m\n\u001b[0;32m    212\u001b[0m \u001b[38;5;250m\u001b[39m\u001b[38;5;124;03m\"\"\"\u001b[39;00m\n\u001b[0;32m    213\u001b[0m \u001b[38;5;124;03mConstructs a state representation of the game.\u001b[39;00m\n\u001b[0;32m    214\u001b[0m \u001b[38;5;124;03m:return: Dict\u001b[39;00m\n\u001b[0;32m    215\u001b[0m \u001b[38;5;124;03m\"\"\"\u001b[39;00m\n\u001b[0;32m    216\u001b[0m state \u001b[38;5;241m=\u001b[39m {\n\u001b[0;32m    217\u001b[0m     \u001b[38;5;124m\"\u001b[39m\u001b[38;5;124mcommand\u001b[39m\u001b[38;5;124m\"\u001b[39m: \u001b[38;5;124m\"\u001b[39m\u001b[38;5;124mget_state\u001b[39m\u001b[38;5;124m\"\u001b[39m,\n\u001b[0;32m    218\u001b[0m     \u001b[38;5;124m\"\u001b[39m\u001b[38;5;124mstatus\u001b[39m\u001b[38;5;124m\"\u001b[39m: \u001b[38;5;124m\"\u001b[39m\u001b[38;5;124mOK\u001b[39m\u001b[38;5;124m\"\u001b[39m \u001b[38;5;28;01mif\u001b[39;00m \u001b[38;5;129;01mnot\u001b[39;00m \u001b[38;5;28mself\u001b[39m\u001b[38;5;241m.\u001b[39mterminated \u001b[38;5;28;01melse\u001b[39;00m \u001b[38;5;124m\"\u001b[39m\u001b[38;5;124mDone\u001b[39m\u001b[38;5;124m\"\u001b[39m,\n\u001b[1;32m   (...)\u001b[0m\n\u001b[0;32m    228\u001b[0m     }\n\u001b[0;32m    229\u001b[0m }\n\u001b[1;32m--> 230\u001b[0m player_obj \u001b[38;5;241m=\u001b[39m \u001b[38;5;28mself\u001b[39m\u001b[38;5;241m.\u001b[39mboard\u001b[38;5;241m.\u001b[39mobjects[\u001b[38;5;28;43mself\u001b[39;49m\u001b[38;5;241;43m.\u001b[39;49m\u001b[43mplayer_code_mapping\u001b[49m\u001b[43m[\u001b[49m\u001b[43mplayer\u001b[49m\u001b[43m]\u001b[49m]\n\u001b[0;32m    231\u001b[0m \u001b[38;5;66;03m# Defines the set of grid locations currently visible to the player\u001b[39;00m\n\u001b[0;32m    232\u001b[0m sight_range \u001b[38;5;241m=\u001b[39m player_obj\u001b[38;5;241m.\u001b[39mget_mask_radius()\n",
      "\u001b[1;31mKeyError\u001b[0m: None"
     ]
    }
   ],
   "source": [
    "\n",
    "\n",
    "# Set up environment\n",
    "env = ATDiceAdventurePythonEnv(server=SERVER)\n",
    "state = env.reset()[0]\n",
    "PLAYERS = [\"Dwarf\", \"Giant\", \"Human\"]\n",
    "\n",
    "ACTION_LIST = [\"up\", \"down\", \"left\", \"right\", \"wait\", \"undo\", \"submit\", \"pinga\", \"pingb\", \"pingc\", \"pingd\"]\n",
    "\n",
    "\n",
    "for i in range(1):\n",
    "    if state['content']['gameData']['currentPhase'] == 'Player_Pinning':\n",
    "        state = env.execute_action('Giant', game_action=\"submit\")\n",
    "        state = env.execute_action('Human', game_action=\"submit\")\n",
    "        state = env.execute_action('Dwarf', game_action=\"submit\")\n",
    "\n",
    "    # if state['content']['gameData']['currentPhase'] == 'Player_Planning':\n",
    "    #     state = env.execute_action('Giant', game_action=\"submit\")\n",
    "    #     state = env.execute_action('Human', game_action=\"submit\")\n",
    "    #     state = env.execute_action('Dwarf', game_action=\"submit\")\n",
    "\n",
    "    #if state['content']['gameData']['currentPhase'] == 'Player_Pinning':\n",
    "    print(state['status'], state['message'], state['content']['gameData'])\n",
    "\n",
    "    state = env.execute_action('Giant', game_action=\"up\")\n",
    "    # state = env.execute_action('Giant', game_action=\"up\")\n",
    "    state = env.execute_action('Giant', game_action=\"submit\")\n",
    "    #state = env.execute_action('Human', game_action=\"left\")\n",
    "    state = env.execute_action('Human', game_action=\"up\")\n",
    "    state = env.execute_action('Human', game_action=\"submit\")\n",
    "    state = env.execute_action('Dwarf', game_action=\"up\")\n",
    "    state = env.execute_action('Dwarf', game_action=\"right\")\n",
    "    state = env.execute_action('Dwarf', game_action=\"up\")\n",
    "    state = env.execute_action('Dwarf', game_action=\"up\")\n",
    "    state = env.execute_action('Dwarf', game_action=\"submit\")\n",
    "    print(state['status'], state['message'], state['content']['gameData'])\n",
    "    env.render()"
   ]
  },
  {
   "cell_type": "code",
   "execution_count": null,
   "metadata": {},
   "outputs": [],
   "source": [
    "env."
   ]
  },
  {
   "cell_type": "code",
   "execution_count": 4,
   "metadata": {},
   "outputs": [
    {
     "data": {
      "text/plain": [
       "'Done'"
      ]
     },
     "execution_count": 4,
     "metadata": {},
     "output_type": "execute_result"
    }
   ],
   "source": [
    "state['status']"
   ]
  },
  {
   "cell_type": "code",
   "execution_count": 3,
   "metadata": {},
   "outputs": [
    {
     "name": "stdout",
     "output_type": "stream",
     "text": [
      "<game.at_dice_adventure.ATDiceAdventure object at 0x000001746ADDB5B0>\n"
     ]
    }
   ],
   "source": [
    "print(env.game)"
   ]
  },
  {
   "cell_type": "code",
   "execution_count": null,
   "metadata": {},
   "outputs": [],
   "source": []
  },
  {
   "cell_type": "markdown",
   "metadata": {},
   "source": [
    "### Beat a level default env"
   ]
  },
  {
   "cell_type": "code",
   "execution_count": 13,
   "metadata": {},
   "outputs": [
    {
     "name": "stdout",
     "output_type": "stream",
     "text": [
      "Game Info:\n",
      "+----------------+----------------+\n",
      "| Level:         | 1              |\n",
      "+----------------+----------------+\n",
      "| Phase:         | Player_Pinning |\n",
      "+----------------+----------------+\n",
      "| Subgoal Count: | 0              |\n",
      "+----------------+----------------+\n",
      "Grid:\n",
      "+----+----+-------+\n",
      "| ## | ** | ##    |\n",
      "+----+----+-------+\n",
      "| 1G | 2G | 3G    |\n",
      "+----+----+-------+\n",
      "| 1S | 2S | 3S    |\n",
      "+----+----+-------+\n",
      "| M1 | M2 | M1(2) |\n",
      "+----+----+-------+\n",
      "\n"
     ]
    }
   ],
   "source": [
    "import pprint\n",
    "\n",
    "from game.env.dice_adventure_python_env import DiceAdventurePythonEnv\n",
    "SERVER = \"local\"\n",
    "PLAYERS = [\"Dwarf\", \"Giant\", \"Human\"]\n",
    "SERVER = \"local\"\n",
    "ACTION_LIST = [\"up\", \"down\", \"left\", \"right\", \"wait\", \"undo\", \"submit\", \"pinga\", \"pingb\", \"pingc\", \"pingd\"]\n",
    "\n",
    "\n",
    "env = DiceAdventurePythonEnv(server=SERVER)\n",
    "state = env.reset()[0]\n",
    "env.render()\n"
   ]
  },
  {
   "cell_type": "code",
   "execution_count": 25,
   "metadata": {},
   "outputs": [
    {
     "name": "stdout",
     "output_type": "stream",
     "text": [
      "OK Full State {'boardWidth': 3, 'boardHeight': 4, 'level': 1, 'currentPhase': 'Player_Planning'}\n",
      "OK Full State {'boardWidth': 3, 'boardHeight': 6, 'level': 2, 'currentPhase': 'Player_Pinning'}\n",
      "Game Info:\n",
      "+----------------+----------------+\n",
      "| Level:         | 2              |\n",
      "+----------------+----------------+\n",
      "| Phase:         | Player_Pinning |\n",
      "+----------------+----------------+\n",
      "| Subgoal Count: | 0              |\n",
      "+----------------+----------------+\n",
      "Grid:\n",
      "+----+-------+-------+\n",
      "| ## | **    | ##    |\n",
      "+----+-------+-------+\n",
      "| ## |       | ##    |\n",
      "+----+-------+-------+\n",
      "| ## | M2    | ##    |\n",
      "+----+-------+-------+\n",
      "| 1G | 2G    | 3G    |\n",
      "+----+-------+-------+\n",
      "| M1 | M1(2) | M1(3) |\n",
      "+----+-------+-------+\n",
      "| 1S | 2S    | 3S    |\n",
      "+----+-------+-------+\n",
      "\n"
     ]
    }
   ],
   "source": [
    "env = DiceAdventurePythonEnv(server=SERVER)\n",
    "state = env.reset()[0]\n",
    "PLAYERS = [\"Dwarf\", \"Giant\", \"Human\"]\n",
    "\n",
    "ACTION_LIST = [\"up\", \"down\", \"left\", \"right\", \"wait\", \"undo\", \"submit\", \"pinga\", \"pingb\", \"pingc\", \"pingd\"]\n",
    "\n",
    "\n",
    "for i in range(1):\n",
    "    if state['content']['gameData']['currentPhase'] == 'Player_Pinning':\n",
    "        state = env.execute_action('Giant', game_action=\"submit\")\n",
    "        state = env.execute_action('Human', game_action=\"submit\")\n",
    "        state = env.execute_action('Dwarf', game_action=\"submit\")\n",
    "\n",
    "    # if state['content']['gameData']['currentPhase'] == 'Player_Planning':\n",
    "    #     state = env.execute_action('Giant', game_action=\"submit\")\n",
    "    #     state = env.execute_action('Human', game_action=\"submit\")\n",
    "    #     state = env.execute_action('Dwarf', game_action=\"submit\")\n",
    "\n",
    "    #if state['content']['gameData']['currentPhase'] == 'Player_Pinning':\n",
    "    print(state['status'], state['message'], state['content']['gameData'])\n",
    "\n",
    "    state = env.execute_action('Giant', game_action=\"up\")\n",
    "    # state = env.execute_action('Giant', game_action=\"up\")\n",
    "    state = env.execute_action('Giant', game_action=\"submit\")\n",
    "    #state = env.execute_action('Human', game_action=\"left\")\n",
    "    state = env.execute_action('Human', game_action=\"up\")\n",
    "    state = env.execute_action('Human', game_action=\"submit\")\n",
    "    state = env.execute_action('Dwarf', game_action=\"up\")\n",
    "    state = env.execute_action('Dwarf', game_action=\"right\")\n",
    "    state = env.execute_action('Dwarf', game_action=\"up\")\n",
    "    state = env.execute_action('Dwarf', game_action=\"up\")\n",
    "    state = env.execute_action('Dwarf', game_action=\"down\")\n",
    "    state = env.execute_action('Dwarf', game_action=\"submit\")\n",
    "    print(state['status'], state['message'], state['content']['gameData'])\n",
    "    env.render()"
   ]
  },
  {
   "cell_type": "code",
   "execution_count": null,
   "metadata": {},
   "outputs": [],
   "source": []
  },
  {
   "cell_type": "code",
   "execution_count": null,
   "metadata": {},
   "outputs": [],
   "source": []
  }
 ],
 "metadata": {
  "kernelspec": {
   "display_name": "daa",
   "language": "python",
   "name": "python3"
  },
  "language_info": {
   "codemirror_mode": {
    "name": "ipython",
    "version": 3
   },
   "file_extension": ".py",
   "mimetype": "text/x-python",
   "name": "python",
   "nbconvert_exporter": "python",
   "pygments_lexer": "ipython3",
   "version": "3.9.9"
  }
 },
 "nbformat": 4,
 "nbformat_minor": 2
}
